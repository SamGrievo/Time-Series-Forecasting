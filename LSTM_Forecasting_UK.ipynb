{
  "cells": [
    {
      "cell_type": "code",
      "execution_count": null,
      "metadata": {
        "colab": {
          "base_uri": "https://localhost:8080/"
        },
        "id": "9pm9i-4B_OQk",
        "outputId": "c0435742-a4c8-4993-94a6-0ba1101285a9"
      },
      "outputs": [
        {
          "output_type": "stream",
          "name": "stdout",
          "text": [
            "Setting up colab environment\n",
            "Collecting skorch\n",
            "  Downloading skorch-0.11.0-py3-none-any.whl (155 kB)\n",
            "\u001b[K     |████████████████████████████████| 155 kB 25.7 MB/s \n",
            "\u001b[?25hRequirement already satisfied: numpy>=1.13.3 in /usr/local/lib/python3.7/dist-packages (from skorch) (1.21.6)\n",
            "Requirement already satisfied: tqdm>=4.14.0 in /usr/local/lib/python3.7/dist-packages (from skorch) (4.64.0)\n",
            "Requirement already satisfied: tabulate>=0.7.7 in /usr/local/lib/python3.7/dist-packages (from skorch) (0.8.9)\n",
            "Requirement already satisfied: scikit-learn>=0.19.1 in /usr/local/lib/python3.7/dist-packages (from skorch) (1.0.2)\n",
            "Requirement already satisfied: scipy>=1.1.0 in /usr/local/lib/python3.7/dist-packages (from skorch) (1.4.1)\n",
            "Requirement already satisfied: threadpoolctl>=2.0.0 in /usr/local/lib/python3.7/dist-packages (from scikit-learn>=0.19.1->skorch) (3.1.0)\n",
            "Requirement already satisfied: joblib>=0.11 in /usr/local/lib/python3.7/dist-packages (from scikit-learn>=0.19.1->skorch) (1.1.0)\n",
            "Installing collected packages: skorch\n",
            "Successfully installed skorch-0.11.0\n"
          ]
        },
        {
          "output_type": "stream",
          "name": "stderr",
          "text": [
            "/usr/local/lib/python3.7/dist-packages/statsmodels/tools/_testing.py:19: FutureWarning: pandas.util.testing is deprecated. Use the functions in the public API at pandas.testing instead.\n",
            "  import pandas.util.testing as tm\n"
          ]
        }
      ],
      "source": [
        "print(\"Setting up colab environment\")\n",
        "!pip install skorch\n",
        "from skorch import NeuralNetRegressor\n",
        "from sklearn.model_selection import GridSearchCV\n",
        "from sklearn.model_selection import RepeatedKFold\n",
        "import os\n",
        "import statsmodels.tsa.api as smtsa\n",
        "from statsmodels.graphics.tsaplots import plot_acf, plot_pacf\n",
        "from statsmodels.tsa.stattools import adfuller\n",
        "import warnings\n",
        "warnings.filterwarnings(\"ignore\") \n",
        "import pandas as pd\n",
        "import math as math\n",
        "import numpy as np\n",
        "import matplotlib.pyplot as plt\n",
        "import sklearn.metrics as skm\n",
        "import sklearn.preprocessing as skp\n",
        "import seaborn as sns \n",
        "import itertools as it\n",
        "import torch\n",
        "from torch.autograd import Variable\n",
        "import time\n",
        "%matplotlib inline "
      ]
    },
    {
      "cell_type": "code",
      "execution_count": null,
      "metadata": {
        "id": "MnZ1iGjlSTGx"
      },
      "outputs": [],
      "source": [
        "def custom_data_prep(data, window):\n",
        "    x = []\n",
        "    y = []\n",
        "\n",
        "    for i in range(len(data)-window-1):\n",
        "        _x = data[i:(i+window)]\n",
        "        _y = data[i+window]\n",
        "        x.append(_x)\n",
        "        y.append(_y)\n",
        "\n",
        "    return np.array(x),np.array(y)"
      ]
    },
    {
      "cell_type": "code",
      "execution_count": null,
      "metadata": {
        "colab": {
          "base_uri": "https://localhost:8080/",
          "height": 441
        },
        "id": "AWb_d7Ma_WQ-",
        "outputId": "2756824a-2a02-4e7e-9013-47767ea18621"
      },
      "outputs": [
        {
          "output_type": "stream",
          "name": "stdout",
          "text": [
            "<class 'pandas.core.frame.DataFrame'>\n"
          ]
        },
        {
          "output_type": "execute_result",
          "data": {
            "text/plain": [
              "      Month   Total\n",
              "0   2013-05   57031\n",
              "1   2013-06   57815\n",
              "2   2013-07   64962\n",
              "3   2013-08   61607\n",
              "4   2013-09   56964\n",
              "..      ...     ...\n",
              "92  2021-01  141414\n",
              "93  2021-02  135101\n",
              "94  2021-03  166668\n",
              "95  2021-04  153789\n",
              "96  2021-05  171614\n",
              "\n",
              "[97 rows x 2 columns]"
            ],
            "text/html": [
              "\n",
              "  <div id=\"df-04fbddcb-e705-48e4-8c9f-7637806cc206\">\n",
              "    <div class=\"colab-df-container\">\n",
              "      <div>\n",
              "<style scoped>\n",
              "    .dataframe tbody tr th:only-of-type {\n",
              "        vertical-align: middle;\n",
              "    }\n",
              "\n",
              "    .dataframe tbody tr th {\n",
              "        vertical-align: top;\n",
              "    }\n",
              "\n",
              "    .dataframe thead th {\n",
              "        text-align: right;\n",
              "    }\n",
              "</style>\n",
              "<table border=\"1\" class=\"dataframe\">\n",
              "  <thead>\n",
              "    <tr style=\"text-align: right;\">\n",
              "      <th></th>\n",
              "      <th>Month</th>\n",
              "      <th>Total</th>\n",
              "    </tr>\n",
              "  </thead>\n",
              "  <tbody>\n",
              "    <tr>\n",
              "      <th>0</th>\n",
              "      <td>2013-05</td>\n",
              "      <td>57031</td>\n",
              "    </tr>\n",
              "    <tr>\n",
              "      <th>1</th>\n",
              "      <td>2013-06</td>\n",
              "      <td>57815</td>\n",
              "    </tr>\n",
              "    <tr>\n",
              "      <th>2</th>\n",
              "      <td>2013-07</td>\n",
              "      <td>64962</td>\n",
              "    </tr>\n",
              "    <tr>\n",
              "      <th>3</th>\n",
              "      <td>2013-08</td>\n",
              "      <td>61607</td>\n",
              "    </tr>\n",
              "    <tr>\n",
              "      <th>4</th>\n",
              "      <td>2013-09</td>\n",
              "      <td>56964</td>\n",
              "    </tr>\n",
              "    <tr>\n",
              "      <th>...</th>\n",
              "      <td>...</td>\n",
              "      <td>...</td>\n",
              "    </tr>\n",
              "    <tr>\n",
              "      <th>92</th>\n",
              "      <td>2021-01</td>\n",
              "      <td>141414</td>\n",
              "    </tr>\n",
              "    <tr>\n",
              "      <th>93</th>\n",
              "      <td>2021-02</td>\n",
              "      <td>135101</td>\n",
              "    </tr>\n",
              "    <tr>\n",
              "      <th>94</th>\n",
              "      <td>2021-03</td>\n",
              "      <td>166668</td>\n",
              "    </tr>\n",
              "    <tr>\n",
              "      <th>95</th>\n",
              "      <td>2021-04</td>\n",
              "      <td>153789</td>\n",
              "    </tr>\n",
              "    <tr>\n",
              "      <th>96</th>\n",
              "      <td>2021-05</td>\n",
              "      <td>171614</td>\n",
              "    </tr>\n",
              "  </tbody>\n",
              "</table>\n",
              "<p>97 rows × 2 columns</p>\n",
              "</div>\n",
              "      <button class=\"colab-df-convert\" onclick=\"convertToInteractive('df-04fbddcb-e705-48e4-8c9f-7637806cc206')\"\n",
              "              title=\"Convert this dataframe to an interactive table.\"\n",
              "              style=\"display:none;\">\n",
              "        \n",
              "  <svg xmlns=\"http://www.w3.org/2000/svg\" height=\"24px\"viewBox=\"0 0 24 24\"\n",
              "       width=\"24px\">\n",
              "    <path d=\"M0 0h24v24H0V0z\" fill=\"none\"/>\n",
              "    <path d=\"M18.56 5.44l.94 2.06.94-2.06 2.06-.94-2.06-.94-.94-2.06-.94 2.06-2.06.94zm-11 1L8.5 8.5l.94-2.06 2.06-.94-2.06-.94L8.5 2.5l-.94 2.06-2.06.94zm10 10l.94 2.06.94-2.06 2.06-.94-2.06-.94-.94-2.06-.94 2.06-2.06.94z\"/><path d=\"M17.41 7.96l-1.37-1.37c-.4-.4-.92-.59-1.43-.59-.52 0-1.04.2-1.43.59L10.3 9.45l-7.72 7.72c-.78.78-.78 2.05 0 2.83L4 21.41c.39.39.9.59 1.41.59.51 0 1.02-.2 1.41-.59l7.78-7.78 2.81-2.81c.8-.78.8-2.07 0-2.86zM5.41 20L4 18.59l7.72-7.72 1.47 1.35L5.41 20z\"/>\n",
              "  </svg>\n",
              "      </button>\n",
              "      \n",
              "  <style>\n",
              "    .colab-df-container {\n",
              "      display:flex;\n",
              "      flex-wrap:wrap;\n",
              "      gap: 12px;\n",
              "    }\n",
              "\n",
              "    .colab-df-convert {\n",
              "      background-color: #E8F0FE;\n",
              "      border: none;\n",
              "      border-radius: 50%;\n",
              "      cursor: pointer;\n",
              "      display: none;\n",
              "      fill: #1967D2;\n",
              "      height: 32px;\n",
              "      padding: 0 0 0 0;\n",
              "      width: 32px;\n",
              "    }\n",
              "\n",
              "    .colab-df-convert:hover {\n",
              "      background-color: #E2EBFA;\n",
              "      box-shadow: 0px 1px 2px rgba(60, 64, 67, 0.3), 0px 1px 3px 1px rgba(60, 64, 67, 0.15);\n",
              "      fill: #174EA6;\n",
              "    }\n",
              "\n",
              "    [theme=dark] .colab-df-convert {\n",
              "      background-color: #3B4455;\n",
              "      fill: #D2E3FC;\n",
              "    }\n",
              "\n",
              "    [theme=dark] .colab-df-convert:hover {\n",
              "      background-color: #434B5C;\n",
              "      box-shadow: 0px 1px 3px 1px rgba(0, 0, 0, 0.15);\n",
              "      filter: drop-shadow(0px 1px 2px rgba(0, 0, 0, 0.3));\n",
              "      fill: #FFFFFF;\n",
              "    }\n",
              "  </style>\n",
              "\n",
              "      <script>\n",
              "        const buttonEl =\n",
              "          document.querySelector('#df-04fbddcb-e705-48e4-8c9f-7637806cc206 button.colab-df-convert');\n",
              "        buttonEl.style.display =\n",
              "          google.colab.kernel.accessAllowed ? 'block' : 'none';\n",
              "\n",
              "        async function convertToInteractive(key) {\n",
              "          const element = document.querySelector('#df-04fbddcb-e705-48e4-8c9f-7637806cc206');\n",
              "          const dataTable =\n",
              "            await google.colab.kernel.invokeFunction('convertToInteractive',\n",
              "                                                     [key], {});\n",
              "          if (!dataTable) return;\n",
              "\n",
              "          const docLinkHtml = 'Like what you see? Visit the ' +\n",
              "            '<a target=\"_blank\" href=https://colab.research.google.com/notebooks/data_table.ipynb>data table notebook</a>'\n",
              "            + ' to learn more about interactive tables.';\n",
              "          element.innerHTML = '';\n",
              "          dataTable['output_type'] = 'display_data';\n",
              "          await google.colab.output.renderOutput(dataTable, element);\n",
              "          const docLink = document.createElement('div');\n",
              "          docLink.innerHTML = docLinkHtml;\n",
              "          element.appendChild(docLink);\n",
              "        }\n",
              "      </script>\n",
              "    </div>\n",
              "  </div>\n",
              "  "
            ]
          },
          "metadata": {},
          "execution_count": 3
        }
      ],
      "source": [
        "crime_data_df = pd.read_csv(\"UKViolent_Crimes.csv\", index_col=0, parse_dates=True, squeeze=True)\n",
        "print(type(crime_data_df))\n",
        "crime_data_df = crime_data_df.iloc[::-1]\n",
        "crime_data_df"
      ]
    },
    {
      "cell_type": "code",
      "execution_count": null,
      "metadata": {
        "colab": {
          "base_uri": "https://localhost:8080/",
          "height": 238
        },
        "id": "Gn_pZ0STIAFf",
        "outputId": "6a088472-8806-4828-d190-43efd0afa869"
      },
      "outputs": [
        {
          "output_type": "execute_result",
          "data": {
            "text/plain": [
              "            Total\n",
              "Month            \n",
              "2013-05-01  57031\n",
              "2013-06-01  57815\n",
              "2013-07-01  64962\n",
              "2013-08-01  61607\n",
              "2013-09-01  56964"
            ],
            "text/html": [
              "\n",
              "  <div id=\"df-0e93f732-d886-45df-b6bd-ad41e30bac99\">\n",
              "    <div class=\"colab-df-container\">\n",
              "      <div>\n",
              "<style scoped>\n",
              "    .dataframe tbody tr th:only-of-type {\n",
              "        vertical-align: middle;\n",
              "    }\n",
              "\n",
              "    .dataframe tbody tr th {\n",
              "        vertical-align: top;\n",
              "    }\n",
              "\n",
              "    .dataframe thead th {\n",
              "        text-align: right;\n",
              "    }\n",
              "</style>\n",
              "<table border=\"1\" class=\"dataframe\">\n",
              "  <thead>\n",
              "    <tr style=\"text-align: right;\">\n",
              "      <th></th>\n",
              "      <th>Total</th>\n",
              "    </tr>\n",
              "    <tr>\n",
              "      <th>Month</th>\n",
              "      <th></th>\n",
              "    </tr>\n",
              "  </thead>\n",
              "  <tbody>\n",
              "    <tr>\n",
              "      <th>2013-05-01</th>\n",
              "      <td>57031</td>\n",
              "    </tr>\n",
              "    <tr>\n",
              "      <th>2013-06-01</th>\n",
              "      <td>57815</td>\n",
              "    </tr>\n",
              "    <tr>\n",
              "      <th>2013-07-01</th>\n",
              "      <td>64962</td>\n",
              "    </tr>\n",
              "    <tr>\n",
              "      <th>2013-08-01</th>\n",
              "      <td>61607</td>\n",
              "    </tr>\n",
              "    <tr>\n",
              "      <th>2013-09-01</th>\n",
              "      <td>56964</td>\n",
              "    </tr>\n",
              "  </tbody>\n",
              "</table>\n",
              "</div>\n",
              "      <button class=\"colab-df-convert\" onclick=\"convertToInteractive('df-0e93f732-d886-45df-b6bd-ad41e30bac99')\"\n",
              "              title=\"Convert this dataframe to an interactive table.\"\n",
              "              style=\"display:none;\">\n",
              "        \n",
              "  <svg xmlns=\"http://www.w3.org/2000/svg\" height=\"24px\"viewBox=\"0 0 24 24\"\n",
              "       width=\"24px\">\n",
              "    <path d=\"M0 0h24v24H0V0z\" fill=\"none\"/>\n",
              "    <path d=\"M18.56 5.44l.94 2.06.94-2.06 2.06-.94-2.06-.94-.94-2.06-.94 2.06-2.06.94zm-11 1L8.5 8.5l.94-2.06 2.06-.94-2.06-.94L8.5 2.5l-.94 2.06-2.06.94zm10 10l.94 2.06.94-2.06 2.06-.94-2.06-.94-.94-2.06-.94 2.06-2.06.94z\"/><path d=\"M17.41 7.96l-1.37-1.37c-.4-.4-.92-.59-1.43-.59-.52 0-1.04.2-1.43.59L10.3 9.45l-7.72 7.72c-.78.78-.78 2.05 0 2.83L4 21.41c.39.39.9.59 1.41.59.51 0 1.02-.2 1.41-.59l7.78-7.78 2.81-2.81c.8-.78.8-2.07 0-2.86zM5.41 20L4 18.59l7.72-7.72 1.47 1.35L5.41 20z\"/>\n",
              "  </svg>\n",
              "      </button>\n",
              "      \n",
              "  <style>\n",
              "    .colab-df-container {\n",
              "      display:flex;\n",
              "      flex-wrap:wrap;\n",
              "      gap: 12px;\n",
              "    }\n",
              "\n",
              "    .colab-df-convert {\n",
              "      background-color: #E8F0FE;\n",
              "      border: none;\n",
              "      border-radius: 50%;\n",
              "      cursor: pointer;\n",
              "      display: none;\n",
              "      fill: #1967D2;\n",
              "      height: 32px;\n",
              "      padding: 0 0 0 0;\n",
              "      width: 32px;\n",
              "    }\n",
              "\n",
              "    .colab-df-convert:hover {\n",
              "      background-color: #E2EBFA;\n",
              "      box-shadow: 0px 1px 2px rgba(60, 64, 67, 0.3), 0px 1px 3px 1px rgba(60, 64, 67, 0.15);\n",
              "      fill: #174EA6;\n",
              "    }\n",
              "\n",
              "    [theme=dark] .colab-df-convert {\n",
              "      background-color: #3B4455;\n",
              "      fill: #D2E3FC;\n",
              "    }\n",
              "\n",
              "    [theme=dark] .colab-df-convert:hover {\n",
              "      background-color: #434B5C;\n",
              "      box-shadow: 0px 1px 3px 1px rgba(0, 0, 0, 0.15);\n",
              "      filter: drop-shadow(0px 1px 2px rgba(0, 0, 0, 0.3));\n",
              "      fill: #FFFFFF;\n",
              "    }\n",
              "  </style>\n",
              "\n",
              "      <script>\n",
              "        const buttonEl =\n",
              "          document.querySelector('#df-0e93f732-d886-45df-b6bd-ad41e30bac99 button.colab-df-convert');\n",
              "        buttonEl.style.display =\n",
              "          google.colab.kernel.accessAllowed ? 'block' : 'none';\n",
              "\n",
              "        async function convertToInteractive(key) {\n",
              "          const element = document.querySelector('#df-0e93f732-d886-45df-b6bd-ad41e30bac99');\n",
              "          const dataTable =\n",
              "            await google.colab.kernel.invokeFunction('convertToInteractive',\n",
              "                                                     [key], {});\n",
              "          if (!dataTable) return;\n",
              "\n",
              "          const docLinkHtml = 'Like what you see? Visit the ' +\n",
              "            '<a target=\"_blank\" href=https://colab.research.google.com/notebooks/data_table.ipynb>data table notebook</a>'\n",
              "            + ' to learn more about interactive tables.';\n",
              "          element.innerHTML = '';\n",
              "          dataTable['output_type'] = 'display_data';\n",
              "          await google.colab.output.renderOutput(dataTable, element);\n",
              "          const docLink = document.createElement('div');\n",
              "          docLink.innerHTML = docLinkHtml;\n",
              "          element.appendChild(docLink);\n",
              "        }\n",
              "      </script>\n",
              "    </div>\n",
              "  </div>\n",
              "  "
            ]
          },
          "metadata": {},
          "execution_count": 4
        }
      ],
      "source": [
        "month = crime_data_df.Month.astype('datetime64[ns]')\n",
        "crime_data_df_idxd = crime_data_df.drop(columns='Month')\n",
        "crime_data_df_2 = crime_data_df_idxd.set_index(pd.to_datetime(month))\n",
        "crime_data_df_2.head()\n"
      ]
    },
    {
      "cell_type": "code",
      "execution_count": null,
      "metadata": {
        "colab": {
          "base_uri": "https://localhost:8080/",
          "height": 295
        },
        "id": "fTZUzVNTlrTB",
        "outputId": "5391e9df-e372-4d27-b280-59b2ef2526e0"
      },
      "outputs": [
        {
          "output_type": "display_data",
          "data": {
            "text/plain": [
              "<Figure size 432x288 with 1 Axes>"
            ],
            "image/png": "[encoded data removed]"
          },
          "metadata": {
            "needs_background": "light"
          }
        }
      ],
      "source": [
        "plt.plot(crime_data_df_2)\n",
        "plt.title(\"Time Series of Violent crime in UK\")\n",
        "plt.xlabel(\"Time\")\n",
        "plt.ylabel(\"Number of Violent Crimes\")\n",
        "plt.show()"
      ]
    },
    {
      "cell_type": "markdown",
      "metadata": {
        "id": "QcnenPnyTJ6G"
      },
      "source": [
        "Rescale the data for use in LSTM as convergence can be reached quicker."
      ]
    },
    {
      "cell_type": "code",
      "execution_count": null,
      "metadata": {
        "colab": {
          "base_uri": "https://localhost:8080/"
        },
        "id": "Yf3Si6VKQ0JE",
        "outputId": "7139ec02-dcfe-4722-a961-a67bf66a8c01"
      },
      "outputs": [
        {
          "output_type": "stream",
          "name": "stdout",
          "text": [
            "torch.Size([46, 12, 1])\n",
            "torch.Size([46, 1])\n",
            "Training Window: tensor([[0.0020],\n",
            "        [0.0086],\n",
            "        [0.0687],\n",
            "        [0.0405],\n",
            "        [0.0014],\n",
            "        [0.0271],\n",
            "        [0.0121],\n",
            "        [0.0361],\n",
            "        [0.0210],\n",
            "        [0.0000],\n",
            "        [0.0722],\n",
            "        [0.0507]])\n",
            "Target: tensor([0.1033])\n",
            "torch.Size([12, 12, 1])\n",
            "torch.Size([12, 1])\n",
            "Training Window: tensor([[0.5052],\n",
            "        [0.6244],\n",
            "        [0.6564],\n",
            "        [0.7042],\n",
            "        [0.6058],\n",
            "        [0.5799],\n",
            "        [0.6755],\n",
            "        [0.6256],\n",
            "        [0.6119],\n",
            "        [0.6279],\n",
            "        [0.5330],\n",
            "        [0.7087]])\n",
            "Target: tensor([0.7184])\n",
            "torch.Size([24, 12, 1])\n",
            "torch.Size([24, 1])\n",
            "Training Window: tensor([[0.8526],\n",
            "        [0.8361],\n",
            "        [0.9244],\n",
            "        [0.8086],\n",
            "        [0.7940],\n",
            "        [0.8597],\n",
            "        [0.7943],\n",
            "        [0.7664],\n",
            "        [0.8026],\n",
            "        [0.7333],\n",
            "        [0.9094],\n",
            "        [0.8339]])\n",
            "Target: tensor([0.8995])\n"
          ]
        }
      ],
      "source": [
        "#Scale the values between 0-1 as deep learning models can better interpret data.\n",
        "scaler = skp.MinMaxScaler()\n",
        "x_vals_scaled = scaler.fit_transform(crime_data_df_2.values)\n",
        "\n",
        "window = 12\n",
        "\n",
        "x, y = custom_data_prep(x_vals_scaled, window)\n",
        "\n",
        "#split the data into train, validation and test splits using pytorch dataloader and Tensor dataset.\n",
        "\n",
        "train_size = int(len(y) * 0.55)\n",
        "val_size = int(train_size+13)\n",
        "test_size = int(val_size+25)\n",
        "\n",
        "\n",
        "train_x = Variable(torch.Tensor(np.array(x[0:train_size])))\n",
        "train_y = Variable(torch.Tensor(np.array(y[0:train_size])))\n",
        "\n",
        "train_dataset = torch.utils.data.TensorDataset(train_x, train_y)\n",
        "trainloader = torch.utils.data.DataLoader(train_dataset, batch_size=46)\n",
        "\n",
        "data_batch, target_batch = next(iter(trainloader))\n",
        "print(data_batch.size())\n",
        "print(target_batch.size())\n",
        "print('Training Window:', data_batch[0])\n",
        "print('Target:', target_batch[0])\n",
        "\n",
        "val_x = Variable(torch.Tensor(np.array(x[train_size+1:val_size])))\n",
        "val_y = Variable(torch.Tensor(np.array(y[train_size+1:val_size])))\n",
        "\n",
        "val_dataset = torch.utils.data.TensorDataset(val_x, val_y)\n",
        "valloader = torch.utils.data.DataLoader(val_dataset, batch_size=12)\n",
        "\n",
        "val_data_batch, val_target_batch = next(iter(valloader))\n",
        "print(val_data_batch.size())\n",
        "print(val_target_batch.size())\n",
        "print('Training Window:', val_data_batch[0])\n",
        "print('Target:', val_target_batch[0])\n",
        "\n",
        "test_x = Variable(torch.Tensor(np.array(x[val_size+1:test_size])))\n",
        "test_y = Variable(torch.Tensor(np.array(y[val_size+1:test_size])))\n",
        "\n",
        "test_dataset = torch.utils.data.TensorDataset(test_x, test_y)\n",
        "testloader = torch.utils.data.DataLoader(test_dataset, batch_size=24)\n",
        "\n",
        "test_data_batch, test_target_batch = next(iter(testloader))\n",
        "print(test_data_batch.size())\n",
        "print(test_target_batch.size())\n",
        "print('Training Window:', test_data_batch[0])\n",
        "print('Target:', test_target_batch[0])"
      ]
    },
    {
      "cell_type": "markdown",
      "metadata": {
        "id": "HsOWmuokxjMy"
      },
      "source": [
        "Build Basic LSTM Class"
      ]
    },
    {
      "cell_type": "code",
      "execution_count": null,
      "metadata": {
        "id": "qRsV8231e7lX"
      },
      "outputs": [],
      "source": [
        "class LSTM(torch.nn.Module):\n",
        "\n",
        "    def __init__(self, num_classes, input_size, hidden_size, num_layers):\n",
        "        super(LSTM, self).__init__()\n",
        "        #num_classes = output dimension, num_layers = amount of LSTM layers stacked, input_size = input data dimension (window size), hidden_size = hidden neurons per layer.\n",
        "        self.num_classes = num_classes\n",
        "        self.num_layers = num_layers\n",
        "        self.input_size = input_size\n",
        "        self.hidden_size = hidden_size\n",
        "        self.seq_length = window\n",
        "        #PyTorch LSTM module\n",
        "        self.lstm = torch.nn.LSTM(input_size=input_size, hidden_size=hidden_size,\n",
        "                            num_layers=num_layers, batch_first=True)\n",
        "        #PyTorch linear layer for output\n",
        "        self.fc = torch.nn.Linear(hidden_size, num_classes)\n",
        "    #forward pass of cell and hidden state\n",
        "    def forward(self, x):\n",
        "      #hidden state output\n",
        "        h_0 = Variable(torch.zeros(\n",
        "            self.num_layers, x.size(0), self.hidden_size))\n",
        "        #cell output\n",
        "        c_0 = Variable(torch.zeros(\n",
        "            self.num_layers, x.size(0), self.hidden_size))\n",
        "        \n",
        "        # Propagate input through LSTM\n",
        "        ula, (h_out, _) = self.lstm(x, (h_0, c_0))\n",
        "        \n",
        "        h_out = h_out.view(-1, self.hidden_size)\n",
        "        \n",
        "        out = self.fc(h_out)\n",
        "        \n",
        "        return out"
      ]
    },
    {
      "cell_type": "code",
      "execution_count": null,
      "metadata": {
        "colab": {
          "base_uri": "https://localhost:8080/"
        },
        "id": "J7yaH6_x-pPX",
        "outputId": "44855452-5706-4197-834b-7a825dc5502b"
      },
      "outputs": [
        {
          "output_type": "stream",
          "name": "stdout",
          "text": [
            "LSTM(\n",
            "  (lstm): LSTM(1, 12, batch_first=True)\n",
            "  (fc): Linear(in_features=12, out_features=1, bias=True)\n",
            ")\n"
          ]
        }
      ],
      "source": [
        "input_size = 1\n",
        "hidden_size = 12\n",
        "num_layers = 1\n",
        "output_size = 1\n",
        "\n",
        "lstm_model = LSTM(output_size, input_size, hidden_size, num_layers)\n",
        "loss = torch.nn.MSELoss()\n",
        "optim = torch.optim.Adam(lstm_model.parameters(), lr=0.01)\n",
        "print(lstm_model)"
      ]
    },
    {
      "cell_type": "code",
      "execution_count": null,
      "metadata": {
        "colab": {
          "base_uri": "https://localhost:8080/"
        },
        "id": "tL23Y_Io0WKL",
        "outputId": "2f1a5bf0-cfa1-4f00-8e7a-554535894b98"
      },
      "outputs": [
        {
          "output_type": "stream",
          "name": "stdout",
          "text": [
            "epoch:   1 train loss: 0.35158965\n",
            "epoch:   1validation loss: 0.99520731\n",
            "epoch:  26 train loss: 0.04986501\n",
            "epoch:  26validation loss: 0.02153420\n",
            "epoch:  51 train loss: 0.00347617\n",
            "epoch:  51validation loss: 0.00783897\n",
            "epoch:  76 train loss: 0.00301546\n",
            "epoch:  76validation loss: 0.00545231\n",
            "epoch: 101 train loss: 0.00312550\n",
            "epoch: 101validation loss: 0.00512347\n",
            "epoch: 126 train loss: 0.00312601\n",
            "epoch: 126validation loss: 0.00498768\n"
          ]
        }
      ],
      "source": [
        "start = time.time()\n",
        "\n",
        "epochs = 150\n",
        "train_loss = []\n",
        "val_loss = []\n",
        "\n",
        "for i in range(epochs):\n",
        "  lstm_model.train()\n",
        "  epoch_loss = 0.0\n",
        "  for x_train,y_train in trainloader:\n",
        "      \n",
        "    optim.zero_grad()  \n",
        "\n",
        "    y_pred = lstm_model(x_train)\n",
        "\n",
        "    single_loss = loss(y_pred, y_train)\n",
        "    single_loss.backward()\n",
        "    optim.step()\n",
        "\n",
        "    train_loss.append(single_loss.item())\n",
        "\n",
        "    if i%25 == 1:\n",
        "        print(f'epoch: {i:3} train loss: {single_loss.item():10.8f}')\n",
        "\n",
        "  lstm_model.eval()\n",
        "  for x_val,y_val in valloader:\n",
        "\n",
        "    optim.zero_grad()  \n",
        "\n",
        "    y_pred = lstm_model(x_val)\n",
        "\n",
        "    single_loss = loss(y_pred, y_val)\n",
        "    single_loss.backward()\n",
        "    optim.step()\n",
        "\n",
        "    val_loss.append(single_loss.item())\n",
        "\n",
        "    if i%25 == 1:\n",
        "        print(f'epoch: {i:3}validation loss: {single_loss.item():10.8f}')\n",
        "\n",
        "end = time.time()"
      ]
    },
    {
      "cell_type": "code",
      "execution_count": null,
      "metadata": {
        "colab": {
          "base_uri": "https://localhost:8080/"
        },
        "id": "zmRZS1_tL-AX",
        "outputId": "5bdc5e8b-a254-4a62-c4e8-41df404f57be"
      },
      "outputs": [
        {
          "output_type": "stream",
          "name": "stdout",
          "text": [
            "Time taken to train: 1.2137601375579834 s\n"
          ]
        }
      ],
      "source": [
        "print(\"Time taken to train:\", end - start,\"s\")"
      ]
    },
    {
      "cell_type": "code",
      "execution_count": null,
      "metadata": {
        "colab": {
          "base_uri": "https://localhost:8080/",
          "height": 295
        },
        "id": "rpuKJpLmcBBe",
        "outputId": "4faf07d6-2d77-4d79-df96-6f40e84a2369"
      },
      "outputs": [
        {
          "output_type": "display_data",
          "data": {
            "text/plain": [
              "<Figure size 432x288 with 1 Axes>"
            ],
            "image/png": "[encoded data removed]"
          },
          "metadata": {
            "needs_background": "light"
          }
        }
      ],
      "source": [
        "fig, ax = plt.subplots()\n",
        "ax.plot(val_loss,label=\"val\")\n",
        "ax.plot(train_loss,label=\"train\")\n",
        "ax.vlines(30, 0, 1, linestyles='dashed', colors='red')\n",
        "plt.xlabel(\"iterations\")\n",
        "plt.ylabel(\"Loss\")\n",
        "plt.title(\"Training and Validation Loss UK dataset\")\n",
        "plt.legend()\n",
        "plt.show()"
      ]
    },
    {
      "cell_type": "code",
      "execution_count": null,
      "metadata": {
        "colab": {
          "base_uri": "https://localhost:8080/"
        },
        "id": "HhMCpbtRPlq6",
        "outputId": "5299eff8-8883-40d1-a641-941844717cc8"
      },
      "outputs": [
        {
          "output_type": "stream",
          "name": "stdout",
          "text": [
            "torch.Size([24, 1])\n"
          ]
        }
      ],
      "source": [
        "lstm_model.eval()\n",
        "for x_test,y_test in testloader:\n",
        "  \n",
        "  y_test_pred = lstm_model(x_test)\n",
        "  \n",
        "print(y_test_pred.shape)"
      ]
    },
    {
      "cell_type": "code",
      "execution_count": null,
      "metadata": {
        "colab": {
          "base_uri": "https://localhost:8080/",
          "height": 977
        },
        "id": "90cj3KvIUCnx",
        "outputId": "91461ceb-047f-4710-96a9-b75710380d52"
      },
      "outputs": [
        {
          "output_type": "stream",
          "name": "stdout",
          "text": [
            "(24, 1)\n",
            "[[157704.8 ]\n",
            " [159280.95]\n",
            " [160382.66]\n",
            " [160818.11]\n",
            " [159269.02]\n",
            " [158219.62]\n",
            " [158948.86]\n",
            " [158035.05]\n",
            " [157773.4 ]\n",
            " [158443.2 ]\n",
            " [157443.27]\n",
            " [156712.34]\n",
            " [151800.73]\n",
            " [153397.06]\n",
            " [155922.52]\n",
            " [160126.5 ]\n",
            " [161840.8 ]\n",
            " [160953.77]\n",
            " [159996.48]\n",
            " [158314.17]\n",
            " [157124.19]\n",
            " [155013.39]\n",
            " [152710.7 ]\n",
            " [157972.7 ]]\n"
          ]
        },
        {
          "output_type": "display_data",
          "data": {
            "text/plain": [
              "<Figure size 432x288 with 1 Axes>"
            ],
            "image/png": "[encoded data removed]"
          },
          "metadata": {
            "needs_background": "light"
          }
        },
        {
          "output_type": "display_data",
          "data": {
            "text/plain": [
              "<Figure size 432x288 with 1 Axes>"
            ],
            "image/png": "[encoded data removed]"
          },
          "metadata": {
            "needs_background": "light"
          }
        }
      ],
      "source": [
        "\n",
        "data_predict = y_test_pred.data.numpy()\n",
        "print(data_predict.shape)\n",
        "\n",
        "\n",
        "predictions_rescaled = scaler.inverse_transform(data_predict)\n",
        "print(predictions_rescaled)\n",
        "\n",
        "df = pd.DataFrame(predictions_rescaled, index=crime_data_df_2.index[72:96])\n",
        "\n",
        "fig, ax = plt.subplots()\n",
        "ax.plot(crime_data_df_2)\n",
        "ax.plot(df)\n",
        "plt.title(\"Time Series of Violent crime in the UK\")\n",
        "plt.xlabel(\"Time\")\n",
        "plt.ylabel(\"Number of Violent Crimes\")\n",
        "plt.show()\n",
        "\n",
        "fig, ax = plt.subplots()\n",
        "ax.plot(crime_data_df_2.index[72:96], crime_data_df_2['Total'][72:96])\n",
        "plt.plot(df)\n",
        "plt.show()"
      ]
    },
    {
      "cell_type": "code",
      "execution_count": null,
      "metadata": {
        "colab": {
          "base_uri": "https://localhost:8080/"
        },
        "id": "Lk_qJuFqUD44",
        "outputId": "278c1d43-8e33-4275-b00a-6bbaffd1558d"
      },
      "outputs": [
        {
          "output_type": "stream",
          "name": "stdout",
          "text": [
            "Mean squared error for 12 forecast steps: 10991.187095466423\n",
            "Mean absolute percentage error for 12 forecast steps: 0.05759807829990282\n"
          ]
        }
      ],
      "source": [
        "test_rescaled = crime_data_df_2['Total'][72:96]\n",
        "\n",
        "rmse = skm.mean_squared_error(test_rescaled, predictions_rescaled, squared = False)\n",
        "print(\"Mean squared error for 12 forecast steps:\", rmse)\n",
        "mape = skm.mean_absolute_percentage_error(test_rescaled, predictions_rescaled)\n",
        "print(\"Mean absolute percentage error for 12 forecast steps:\", mape)"
      ]
    },
    {
      "cell_type": "code",
      "source": [
        "\n",
        "fut_test_x = Variable(torch.Tensor(np.array(x[72:test_size])))\n",
        "pred = []\n",
        "pred.append(fut_test_x)\n",
        "\n",
        "\n",
        "def predict(num_prediction, model):\n",
        "  for i in range(num_prediction):\n",
        "    out = model(pred[i])\n",
        "    #out = torch.reshape(out,(1,12,1))\n",
        "    pred.append(out)\n",
        "\n",
        "  return pred\n",
        "\n",
        "predict(2,lstm_model)"
      ],
      "metadata": {
        "colab": {
          "base_uri": "https://localhost:8080/",
          "height": 345
        },
        "id": "JX6BaLeAi1Gt",
        "outputId": "1fea7c5e-29cb-4a1e-a337-7a0f957fac8a"
      },
      "execution_count": null,
      "outputs": [
        {
          "output_type": "error",
          "ename": "RuntimeError",
          "evalue": "ignored",
          "traceback": [
            "\u001b[0;31m---------------------------------------------------------------------------\u001b[0m",
            "\u001b[0;31mRuntimeError\u001b[0m                              Traceback (most recent call last)",
            "\u001b[0;32m<ipython-input-31-254a2078a99f>\u001b[0m in \u001b[0;36m<module>\u001b[0;34m()\u001b[0m\n\u001b[1;32m     13\u001b[0m   \u001b[0;32mreturn\u001b[0m \u001b[0mpred\u001b[0m\u001b[0;34m\u001b[0m\u001b[0;34m\u001b[0m\u001b[0m\n\u001b[1;32m     14\u001b[0m \u001b[0;34m\u001b[0m\u001b[0m\n\u001b[0;32m---> 15\u001b[0;31m \u001b[0mpredict\u001b[0m\u001b[0;34m(\u001b[0m\u001b[0;36m2\u001b[0m\u001b[0;34m,\u001b[0m\u001b[0mlstm_model\u001b[0m\u001b[0;34m)\u001b[0m\u001b[0;34m\u001b[0m\u001b[0;34m\u001b[0m\u001b[0m\n\u001b[0m",
            "\u001b[0;32m<ipython-input-31-254a2078a99f>\u001b[0m in \u001b[0;36mpredict\u001b[0;34m(num_prediction, model)\u001b[0m\n\u001b[1;32m      7\u001b[0m \u001b[0;32mdef\u001b[0m \u001b[0mpredict\u001b[0m\u001b[0;34m(\u001b[0m\u001b[0mnum_prediction\u001b[0m\u001b[0;34m,\u001b[0m \u001b[0mmodel\u001b[0m\u001b[0;34m)\u001b[0m\u001b[0;34m:\u001b[0m\u001b[0;34m\u001b[0m\u001b[0;34m\u001b[0m\u001b[0m\n\u001b[1;32m      8\u001b[0m   \u001b[0;32mfor\u001b[0m \u001b[0mi\u001b[0m \u001b[0;32min\u001b[0m \u001b[0mrange\u001b[0m\u001b[0;34m(\u001b[0m\u001b[0mnum_prediction\u001b[0m\u001b[0;34m)\u001b[0m\u001b[0;34m:\u001b[0m\u001b[0;34m\u001b[0m\u001b[0;34m\u001b[0m\u001b[0m\n\u001b[0;32m----> 9\u001b[0;31m     \u001b[0mout\u001b[0m \u001b[0;34m=\u001b[0m \u001b[0mmodel\u001b[0m\u001b[0;34m(\u001b[0m\u001b[0mpred\u001b[0m\u001b[0;34m[\u001b[0m\u001b[0mi\u001b[0m\u001b[0;34m]\u001b[0m\u001b[0;34m)\u001b[0m\u001b[0;34m\u001b[0m\u001b[0;34m\u001b[0m\u001b[0m\n\u001b[0m\u001b[1;32m     10\u001b[0m     \u001b[0;31m#out = torch.reshape(out,(1,12,1))\u001b[0m\u001b[0;34m\u001b[0m\u001b[0;34m\u001b[0m\u001b[0;34m\u001b[0m\u001b[0m\n\u001b[1;32m     11\u001b[0m     \u001b[0mpred\u001b[0m\u001b[0;34m.\u001b[0m\u001b[0mappend\u001b[0m\u001b[0;34m(\u001b[0m\u001b[0mout\u001b[0m\u001b[0;34m)\u001b[0m\u001b[0;34m\u001b[0m\u001b[0;34m\u001b[0m\u001b[0m\n",
            "\u001b[0;32m/usr/local/lib/python3.7/dist-packages/torch/nn/modules/module.py\u001b[0m in \u001b[0;36m_call_impl\u001b[0;34m(self, *input, **kwargs)\u001b[0m\n\u001b[1;32m   1108\u001b[0m         if not (self._backward_hooks or self._forward_hooks or self._forward_pre_hooks or _global_backward_hooks\n\u001b[1;32m   1109\u001b[0m                 or _global_forward_hooks or _global_forward_pre_hooks):\n\u001b[0;32m-> 1110\u001b[0;31m             \u001b[0;32mreturn\u001b[0m \u001b[0mforward_call\u001b[0m\u001b[0;34m(\u001b[0m\u001b[0;34m*\u001b[0m\u001b[0minput\u001b[0m\u001b[0;34m,\u001b[0m \u001b[0;34m**\u001b[0m\u001b[0mkwargs\u001b[0m\u001b[0;34m)\u001b[0m\u001b[0;34m\u001b[0m\u001b[0;34m\u001b[0m\u001b[0m\n\u001b[0m\u001b[1;32m   1111\u001b[0m         \u001b[0;31m# Do not call functions when jit is used\u001b[0m\u001b[0;34m\u001b[0m\u001b[0;34m\u001b[0m\u001b[0;34m\u001b[0m\u001b[0m\n\u001b[1;32m   1112\u001b[0m         \u001b[0mfull_backward_hooks\u001b[0m\u001b[0;34m,\u001b[0m \u001b[0mnon_full_backward_hooks\u001b[0m \u001b[0;34m=\u001b[0m \u001b[0;34m[\u001b[0m\u001b[0;34m]\u001b[0m\u001b[0;34m,\u001b[0m \u001b[0;34m[\u001b[0m\u001b[0;34m]\u001b[0m\u001b[0;34m\u001b[0m\u001b[0;34m\u001b[0m\u001b[0m\n",
            "\u001b[0;32m<ipython-input-7-077e3f4b57ed>\u001b[0m in \u001b[0;36mforward\u001b[0;34m(self, x)\u001b[0m\n\u001b[1;32m     24\u001b[0m \u001b[0;34m\u001b[0m\u001b[0m\n\u001b[1;32m     25\u001b[0m         \u001b[0;31m# Propagate input through LSTM\u001b[0m\u001b[0;34m\u001b[0m\u001b[0;34m\u001b[0m\u001b[0;34m\u001b[0m\u001b[0m\n\u001b[0;32m---> 26\u001b[0;31m         \u001b[0mula\u001b[0m\u001b[0;34m,\u001b[0m \u001b[0;34m(\u001b[0m\u001b[0mh_out\u001b[0m\u001b[0;34m,\u001b[0m \u001b[0m_\u001b[0m\u001b[0;34m)\u001b[0m \u001b[0;34m=\u001b[0m \u001b[0mself\u001b[0m\u001b[0;34m.\u001b[0m\u001b[0mlstm\u001b[0m\u001b[0;34m(\u001b[0m\u001b[0mx\u001b[0m\u001b[0;34m,\u001b[0m \u001b[0;34m(\u001b[0m\u001b[0mh_0\u001b[0m\u001b[0;34m,\u001b[0m \u001b[0mc_0\u001b[0m\u001b[0;34m)\u001b[0m\u001b[0;34m)\u001b[0m\u001b[0;34m\u001b[0m\u001b[0;34m\u001b[0m\u001b[0m\n\u001b[0m\u001b[1;32m     27\u001b[0m \u001b[0;34m\u001b[0m\u001b[0m\n\u001b[1;32m     28\u001b[0m         \u001b[0mh_out\u001b[0m \u001b[0;34m=\u001b[0m \u001b[0mh_out\u001b[0m\u001b[0;34m.\u001b[0m\u001b[0mview\u001b[0m\u001b[0;34m(\u001b[0m\u001b[0;34m-\u001b[0m\u001b[0;36m1\u001b[0m\u001b[0;34m,\u001b[0m \u001b[0mself\u001b[0m\u001b[0;34m.\u001b[0m\u001b[0mhidden_size\u001b[0m\u001b[0;34m)\u001b[0m\u001b[0;34m\u001b[0m\u001b[0;34m\u001b[0m\u001b[0m\n",
            "\u001b[0;32m/usr/local/lib/python3.7/dist-packages/torch/nn/modules/module.py\u001b[0m in \u001b[0;36m_call_impl\u001b[0;34m(self, *input, **kwargs)\u001b[0m\n\u001b[1;32m   1108\u001b[0m         if not (self._backward_hooks or self._forward_hooks or self._forward_pre_hooks or _global_backward_hooks\n\u001b[1;32m   1109\u001b[0m                 or _global_forward_hooks or _global_forward_pre_hooks):\n\u001b[0;32m-> 1110\u001b[0;31m             \u001b[0;32mreturn\u001b[0m \u001b[0mforward_call\u001b[0m\u001b[0;34m(\u001b[0m\u001b[0;34m*\u001b[0m\u001b[0minput\u001b[0m\u001b[0;34m,\u001b[0m \u001b[0;34m**\u001b[0m\u001b[0mkwargs\u001b[0m\u001b[0;34m)\u001b[0m\u001b[0;34m\u001b[0m\u001b[0;34m\u001b[0m\u001b[0m\n\u001b[0m\u001b[1;32m   1111\u001b[0m         \u001b[0;31m# Do not call functions when jit is used\u001b[0m\u001b[0;34m\u001b[0m\u001b[0;34m\u001b[0m\u001b[0;34m\u001b[0m\u001b[0m\n\u001b[1;32m   1112\u001b[0m         \u001b[0mfull_backward_hooks\u001b[0m\u001b[0;34m,\u001b[0m \u001b[0mnon_full_backward_hooks\u001b[0m \u001b[0;34m=\u001b[0m \u001b[0;34m[\u001b[0m\u001b[0;34m]\u001b[0m\u001b[0;34m,\u001b[0m \u001b[0;34m[\u001b[0m\u001b[0;34m]\u001b[0m\u001b[0;34m\u001b[0m\u001b[0;34m\u001b[0m\u001b[0m\n",
            "\u001b[0;32m/usr/local/lib/python3.7/dist-packages/torch/nn/modules/rnn.py\u001b[0m in \u001b[0;36mforward\u001b[0;34m(self, input, hx)\u001b[0m\n\u001b[1;32m    750\u001b[0m                         msg = (\"For unbatched 2-D input, hx and cx should \"\n\u001b[1;32m    751\u001b[0m                                f\"also be 2-D but got ({hx[0].dim()}-D, {hx[1].dim()}-D) tensors\")\n\u001b[0;32m--> 752\u001b[0;31m                         \u001b[0;32mraise\u001b[0m \u001b[0mRuntimeError\u001b[0m\u001b[0;34m(\u001b[0m\u001b[0mmsg\u001b[0m\u001b[0;34m)\u001b[0m\u001b[0;34m\u001b[0m\u001b[0;34m\u001b[0m\u001b[0m\n\u001b[0m\u001b[1;32m    753\u001b[0m                     \u001b[0mhx\u001b[0m \u001b[0;34m=\u001b[0m \u001b[0;34m(\u001b[0m\u001b[0mhx\u001b[0m\u001b[0;34m[\u001b[0m\u001b[0;36m0\u001b[0m\u001b[0;34m]\u001b[0m\u001b[0;34m.\u001b[0m\u001b[0munsqueeze\u001b[0m\u001b[0;34m(\u001b[0m\u001b[0;36m1\u001b[0m\u001b[0;34m)\u001b[0m\u001b[0;34m,\u001b[0m \u001b[0mhx\u001b[0m\u001b[0;34m[\u001b[0m\u001b[0;36m1\u001b[0m\u001b[0;34m]\u001b[0m\u001b[0;34m.\u001b[0m\u001b[0munsqueeze\u001b[0m\u001b[0;34m(\u001b[0m\u001b[0;36m1\u001b[0m\u001b[0;34m)\u001b[0m\u001b[0;34m)\u001b[0m\u001b[0;34m\u001b[0m\u001b[0;34m\u001b[0m\u001b[0m\n\u001b[1;32m    754\u001b[0m \u001b[0;34m\u001b[0m\u001b[0m\n",
            "\u001b[0;31mRuntimeError\u001b[0m: For unbatched 2-D input, hx and cx should also be 2-D but got (3-D, 3-D) tensors"
          ]
        }
      ]
    },
    {
      "cell_type": "code",
      "execution_count": null,
      "metadata": {
        "id": "z_tviUNgpzkI"
      },
      "outputs": [],
      "source": [
        "from sklearn.model_selection import RepeatedKFold\n",
        "cv = RepeatedKFold(n_splits=5, n_repeats=1, random_state=1)"
      ]
    },
    {
      "cell_type": "code",
      "execution_count": null,
      "metadata": {
        "id": "g8F843Il6qAs"
      },
      "outputs": [],
      "source": [
        "lstm_hyper_net = NeuralNetRegressor(\n",
        "        module=lstm_model, max_epochs=60,\n",
        "        optimizer=torch.optim.Adam,\n",
        "        criterion=loss,\n",
        "        lr=0.01, verbose=1\n",
        "    )"
      ]
    },
    {
      "cell_type": "code",
      "execution_count": null,
      "metadata": {
        "id": "dFPg3rtC6q28"
      },
      "outputs": [],
      "source": [
        "params = {\n",
        "    'lr': [0.001, 0.01, 0.1, 0.005, 0.05, 0.5],\n",
        "    'module__hidden_size': [2,4,6,8,10,12,14,16,18,20],\n",
        "    'module__num_classes': [1],\n",
        "    'module__input_size': [1],\n",
        "    'module__num_layers': [1] \n",
        "    }\n"
      ]
    },
    {
      "cell_type": "code",
      "execution_count": null,
      "metadata": {
        "id": "n4nIuUBLlKJf"
      },
      "outputs": [],
      "source": [
        "gs = GridSearchCV(\n",
        "        lstm_hyper_net, params, refit=False, scoring='neg_mean_squared_error', verbose=1, cv=cv, error_score=\"raise\"\n",
        "    )"
      ]
    },
    {
      "cell_type": "code",
      "execution_count": null,
      "metadata": {
        "id": "FghZ6IPgoF4b"
      },
      "outputs": [],
      "source": [
        "start = time.time()\n",
        "for i, data in enumerate(trainloader):\n",
        "  x,y = data\n",
        "  outputs = gs.fit(x, y)\n",
        "end = time.time()"
      ]
    },
    {
      "cell_type": "code",
      "execution_count": null,
      "metadata": {
        "id": "9Y4jKf3LdJqD",
        "colab": {
          "base_uri": "https://localhost:8080/"
        },
        "outputId": "b4e85faa-bfff-49e6-c4c1-f6d601df236d"
      },
      "outputs": [
        {
          "output_type": "stream",
          "name": "stdout",
          "text": [
            "Time taken to train hyperparamters: 239.08023118972778 s\n"
          ]
        }
      ],
      "source": [
        "print(\"Time taken to train hyperparamters:\", end - start,\"s\")"
      ]
    },
    {
      "cell_type": "code",
      "execution_count": null,
      "metadata": {
        "id": "8NjyCOd6qT8f",
        "colab": {
          "base_uri": "https://localhost:8080/"
        },
        "outputId": "742d5962-ebb9-4325-dd4d-5ab071f055a0"
      },
      "outputs": [
        {
          "output_type": "stream",
          "name": "stdout",
          "text": [
            "SEARCH COMPLETE\n",
            "{'mean_fit_time': array([0.71704769, 0.67678857, 0.68489876, 0.69675231, 0.73038073,\n",
            "       0.76540647, 0.77938476, 0.76434407, 0.78853741, 0.77761397,\n",
            "       0.76324091, 0.72087846, 0.80384345, 0.82065206, 0.84392433,\n",
            "       0.76197462, 0.78591971, 0.78377938, 0.77012262, 0.85514169,\n",
            "       0.75203648, 0.79848328, 0.75783219, 0.79367704, 0.82751164,\n",
            "       0.84284539, 0.85600562, 0.85164294, 0.83288016, 0.84428663,\n",
            "       0.79573145, 0.79141474, 0.76742601, 0.7610199 , 0.80962696,\n",
            "       0.78797617, 0.83812647, 0.82345958, 0.77579889, 0.82629895,\n",
            "       0.77922354, 0.74835472, 0.75093164, 0.79944968, 0.80886459,\n",
            "       0.83285065, 0.84040394, 0.80078316, 0.77645025, 0.77541747,\n",
            "       0.78951187, 0.81308832, 0.80481362, 0.7587388 , 0.79056883,\n",
            "       0.82205868, 0.8393168 , 0.8080122 , 0.85505958, 0.89779115]), 'std_fit_time': array([0.05517138, 0.03195919, 0.01972416, 0.00869654, 0.01500928,\n",
            "       0.0304043 , 0.01351794, 0.02692882, 0.0377422 , 0.02282074,\n",
            "       0.02301017, 0.01933946, 0.04098661, 0.02792045, 0.02720122,\n",
            "       0.05223928, 0.0134467 , 0.04991898, 0.03051078, 0.03914051,\n",
            "       0.04328533, 0.04022081, 0.06891299, 0.02694012, 0.02891322,\n",
            "       0.07750562, 0.03057992, 0.04660406, 0.02600347, 0.03395875,\n",
            "       0.06584522, 0.07207832, 0.02599722, 0.03313346, 0.02891013,\n",
            "       0.03434786, 0.02548084, 0.04590119, 0.03103532, 0.02151735,\n",
            "       0.01720731, 0.03848817, 0.04144617, 0.04823368, 0.0358969 ,\n",
            "       0.05133753, 0.05390062, 0.03808278, 0.03660286, 0.03893453,\n",
            "       0.00915517, 0.06411479, 0.0325158 , 0.04621397, 0.02748589,\n",
            "       0.07420279, 0.06622684, 0.04353268, 0.02909664, 0.06222817]), 'mean_score_time': array([0.00337968, 0.00308824, 0.00280685, 0.00266585, 0.00279675,\n",
            "       0.00391412, 0.0028934 , 0.003584  , 0.00373769, 0.00416279,\n",
            "       0.00281978, 0.00261083, 0.00303054, 0.00300655, 0.00319343,\n",
            "       0.00268254, 0.00356445, 0.00278163, 0.00262804, 0.00291471,\n",
            "       0.00243049, 0.00317745, 0.00271096, 0.00287247, 0.00288997,\n",
            "       0.00277047, 0.00333791, 0.0027874 , 0.00309048, 0.0035522 ,\n",
            "       0.00327787, 0.00252542, 0.00286207, 0.00265617, 0.00264826,\n",
            "       0.0027914 , 0.00308299, 0.00317249, 0.00294719, 0.0033617 ,\n",
            "       0.00256414, 0.00258899, 0.00274262, 0.00306754, 0.00251722,\n",
            "       0.00285788, 0.00261145, 0.00245557, 0.00249782, 0.0025044 ,\n",
            "       0.0024261 , 0.00242724, 0.00295801, 0.00263271, 0.00342312,\n",
            "       0.00308299, 0.00339842, 0.00286026, 0.00318737, 0.00365205]), 'std_score_time': array([0.00084165, 0.00049324, 0.00024817, 0.00016627, 0.00027312,\n",
            "       0.00162679, 0.00049205, 0.00161935, 0.00112989, 0.00130163,\n",
            "       0.00023499, 0.00014327, 0.00047954, 0.00054589, 0.00103081,\n",
            "       0.00017315, 0.00125039, 0.00022087, 0.00025298, 0.00041364,\n",
            "       0.00012267, 0.00048219, 0.00041778, 0.00028243, 0.00032694,\n",
            "       0.00029387, 0.00115785, 0.0002666 , 0.00028852, 0.00083251,\n",
            "       0.00117067, 0.00018943, 0.00015686, 0.00025733, 0.00029575,\n",
            "       0.00020084, 0.000418  , 0.0006443 , 0.00070059, 0.00043275,\n",
            "       0.00028325, 0.00025931, 0.00059525, 0.00122997, 0.00020966,\n",
            "       0.00029375, 0.00017427, 0.00019163, 0.00017099, 0.00011498,\n",
            "       0.00011061, 0.00019873, 0.00054014, 0.00016716, 0.00127   ,\n",
            "       0.0002573 , 0.00078118, 0.00020975, 0.00069869, 0.00057178]), 'param_lr': masked_array(data=[0.001, 0.001, 0.001, 0.001, 0.001, 0.001, 0.001, 0.001,\n",
            "                   0.001, 0.001, 0.01, 0.01, 0.01, 0.01, 0.01, 0.01, 0.01,\n",
            "                   0.01, 0.01, 0.01, 0.1, 0.1, 0.1, 0.1, 0.1, 0.1, 0.1,\n",
            "                   0.1, 0.1, 0.1, 0.005, 0.005, 0.005, 0.005, 0.005,\n",
            "                   0.005, 0.005, 0.005, 0.005, 0.005, 0.05, 0.05, 0.05,\n",
            "                   0.05, 0.05, 0.05, 0.05, 0.05, 0.05, 0.05, 0.5, 0.5,\n",
            "                   0.5, 0.5, 0.5, 0.5, 0.5, 0.5, 0.5, 0.5],\n",
            "             mask=[False, False, False, False, False, False, False, False,\n",
            "                   False, False, False, False, False, False, False, False,\n",
            "                   False, False, False, False, False, False, False, False,\n",
            "                   False, False, False, False, False, False, False, False,\n",
            "                   False, False, False, False, False, False, False, False,\n",
            "                   False, False, False, False, False, False, False, False,\n",
            "                   False, False, False, False, False, False, False, False,\n",
            "                   False, False, False, False],\n",
            "       fill_value='?',\n",
            "            dtype=object), 'param_module__hidden_size': masked_array(data=[2, 4, 6, 8, 10, 12, 14, 16, 18, 20, 2, 4, 6, 8, 10, 12,\n",
            "                   14, 16, 18, 20, 2, 4, 6, 8, 10, 12, 14, 16, 18, 20, 2,\n",
            "                   4, 6, 8, 10, 12, 14, 16, 18, 20, 2, 4, 6, 8, 10, 12,\n",
            "                   14, 16, 18, 20, 2, 4, 6, 8, 10, 12, 14, 16, 18, 20],\n",
            "             mask=[False, False, False, False, False, False, False, False,\n",
            "                   False, False, False, False, False, False, False, False,\n",
            "                   False, False, False, False, False, False, False, False,\n",
            "                   False, False, False, False, False, False, False, False,\n",
            "                   False, False, False, False, False, False, False, False,\n",
            "                   False, False, False, False, False, False, False, False,\n",
            "                   False, False, False, False, False, False, False, False,\n",
            "                   False, False, False, False],\n",
            "       fill_value='?',\n",
            "            dtype=object), 'param_module__input_size': masked_array(data=[1, 1, 1, 1, 1, 1, 1, 1, 1, 1, 1, 1, 1, 1, 1, 1, 1, 1,\n",
            "                   1, 1, 1, 1, 1, 1, 1, 1, 1, 1, 1, 1, 1, 1, 1, 1, 1, 1,\n",
            "                   1, 1, 1, 1, 1, 1, 1, 1, 1, 1, 1, 1, 1, 1, 1, 1, 1, 1,\n",
            "                   1, 1, 1, 1, 1, 1],\n",
            "             mask=[False, False, False, False, False, False, False, False,\n",
            "                   False, False, False, False, False, False, False, False,\n",
            "                   False, False, False, False, False, False, False, False,\n",
            "                   False, False, False, False, False, False, False, False,\n",
            "                   False, False, False, False, False, False, False, False,\n",
            "                   False, False, False, False, False, False, False, False,\n",
            "                   False, False, False, False, False, False, False, False,\n",
            "                   False, False, False, False],\n",
            "       fill_value='?',\n",
            "            dtype=object), 'param_module__num_classes': masked_array(data=[1, 1, 1, 1, 1, 1, 1, 1, 1, 1, 1, 1, 1, 1, 1, 1, 1, 1,\n",
            "                   1, 1, 1, 1, 1, 1, 1, 1, 1, 1, 1, 1, 1, 1, 1, 1, 1, 1,\n",
            "                   1, 1, 1, 1, 1, 1, 1, 1, 1, 1, 1, 1, 1, 1, 1, 1, 1, 1,\n",
            "                   1, 1, 1, 1, 1, 1],\n",
            "             mask=[False, False, False, False, False, False, False, False,\n",
            "                   False, False, False, False, False, False, False, False,\n",
            "                   False, False, False, False, False, False, False, False,\n",
            "                   False, False, False, False, False, False, False, False,\n",
            "                   False, False, False, False, False, False, False, False,\n",
            "                   False, False, False, False, False, False, False, False,\n",
            "                   False, False, False, False, False, False, False, False,\n",
            "                   False, False, False, False],\n",
            "       fill_value='?',\n",
            "            dtype=object), 'param_module__num_layers': masked_array(data=[1, 1, 1, 1, 1, 1, 1, 1, 1, 1, 1, 1, 1, 1, 1, 1, 1, 1,\n",
            "                   1, 1, 1, 1, 1, 1, 1, 1, 1, 1, 1, 1, 1, 1, 1, 1, 1, 1,\n",
            "                   1, 1, 1, 1, 1, 1, 1, 1, 1, 1, 1, 1, 1, 1, 1, 1, 1, 1,\n",
            "                   1, 1, 1, 1, 1, 1],\n",
            "             mask=[False, False, False, False, False, False, False, False,\n",
            "                   False, False, False, False, False, False, False, False,\n",
            "                   False, False, False, False, False, False, False, False,\n",
            "                   False, False, False, False, False, False, False, False,\n",
            "                   False, False, False, False, False, False, False, False,\n",
            "                   False, False, False, False, False, False, False, False,\n",
            "                   False, False, False, False, False, False, False, False,\n",
            "                   False, False, False, False],\n",
            "       fill_value='?',\n",
            "            dtype=object), 'params': [{'lr': 0.001, 'module__hidden_size': 2, 'module__input_size': 1, 'module__num_classes': 1, 'module__num_layers': 1}, {'lr': 0.001, 'module__hidden_size': 4, 'module__input_size': 1, 'module__num_classes': 1, 'module__num_layers': 1}, {'lr': 0.001, 'module__hidden_size': 6, 'module__input_size': 1, 'module__num_classes': 1, 'module__num_layers': 1}, {'lr': 0.001, 'module__hidden_size': 8, 'module__input_size': 1, 'module__num_classes': 1, 'module__num_layers': 1}, {'lr': 0.001, 'module__hidden_size': 10, 'module__input_size': 1, 'module__num_classes': 1, 'module__num_layers': 1}, {'lr': 0.001, 'module__hidden_size': 12, 'module__input_size': 1, 'module__num_classes': 1, 'module__num_layers': 1}, {'lr': 0.001, 'module__hidden_size': 14, 'module__input_size': 1, 'module__num_classes': 1, 'module__num_layers': 1}, {'lr': 0.001, 'module__hidden_size': 16, 'module__input_size': 1, 'module__num_classes': 1, 'module__num_layers': 1}, {'lr': 0.001, 'module__hidden_size': 18, 'module__input_size': 1, 'module__num_classes': 1, 'module__num_layers': 1}, {'lr': 0.001, 'module__hidden_size': 20, 'module__input_size': 1, 'module__num_classes': 1, 'module__num_layers': 1}, {'lr': 0.01, 'module__hidden_size': 2, 'module__input_size': 1, 'module__num_classes': 1, 'module__num_layers': 1}, {'lr': 0.01, 'module__hidden_size': 4, 'module__input_size': 1, 'module__num_classes': 1, 'module__num_layers': 1}, {'lr': 0.01, 'module__hidden_size': 6, 'module__input_size': 1, 'module__num_classes': 1, 'module__num_layers': 1}, {'lr': 0.01, 'module__hidden_size': 8, 'module__input_size': 1, 'module__num_classes': 1, 'module__num_layers': 1}, {'lr': 0.01, 'module__hidden_size': 10, 'module__input_size': 1, 'module__num_classes': 1, 'module__num_layers': 1}, {'lr': 0.01, 'module__hidden_size': 12, 'module__input_size': 1, 'module__num_classes': 1, 'module__num_layers': 1}, {'lr': 0.01, 'module__hidden_size': 14, 'module__input_size': 1, 'module__num_classes': 1, 'module__num_layers': 1}, {'lr': 0.01, 'module__hidden_size': 16, 'module__input_size': 1, 'module__num_classes': 1, 'module__num_layers': 1}, {'lr': 0.01, 'module__hidden_size': 18, 'module__input_size': 1, 'module__num_classes': 1, 'module__num_layers': 1}, {'lr': 0.01, 'module__hidden_size': 20, 'module__input_size': 1, 'module__num_classes': 1, 'module__num_layers': 1}, {'lr': 0.1, 'module__hidden_size': 2, 'module__input_size': 1, 'module__num_classes': 1, 'module__num_layers': 1}, {'lr': 0.1, 'module__hidden_size': 4, 'module__input_size': 1, 'module__num_classes': 1, 'module__num_layers': 1}, {'lr': 0.1, 'module__hidden_size': 6, 'module__input_size': 1, 'module__num_classes': 1, 'module__num_layers': 1}, {'lr': 0.1, 'module__hidden_size': 8, 'module__input_size': 1, 'module__num_classes': 1, 'module__num_layers': 1}, {'lr': 0.1, 'module__hidden_size': 10, 'module__input_size': 1, 'module__num_classes': 1, 'module__num_layers': 1}, {'lr': 0.1, 'module__hidden_size': 12, 'module__input_size': 1, 'module__num_classes': 1, 'module__num_layers': 1}, {'lr': 0.1, 'module__hidden_size': 14, 'module__input_size': 1, 'module__num_classes': 1, 'module__num_layers': 1}, {'lr': 0.1, 'module__hidden_size': 16, 'module__input_size': 1, 'module__num_classes': 1, 'module__num_layers': 1}, {'lr': 0.1, 'module__hidden_size': 18, 'module__input_size': 1, 'module__num_classes': 1, 'module__num_layers': 1}, {'lr': 0.1, 'module__hidden_size': 20, 'module__input_size': 1, 'module__num_classes': 1, 'module__num_layers': 1}, {'lr': 0.005, 'module__hidden_size': 2, 'module__input_size': 1, 'module__num_classes': 1, 'module__num_layers': 1}, {'lr': 0.005, 'module__hidden_size': 4, 'module__input_size': 1, 'module__num_classes': 1, 'module__num_layers': 1}, {'lr': 0.005, 'module__hidden_size': 6, 'module__input_size': 1, 'module__num_classes': 1, 'module__num_layers': 1}, {'lr': 0.005, 'module__hidden_size': 8, 'module__input_size': 1, 'module__num_classes': 1, 'module__num_layers': 1}, {'lr': 0.005, 'module__hidden_size': 10, 'module__input_size': 1, 'module__num_classes': 1, 'module__num_layers': 1}, {'lr': 0.005, 'module__hidden_size': 12, 'module__input_size': 1, 'module__num_classes': 1, 'module__num_layers': 1}, {'lr': 0.005, 'module__hidden_size': 14, 'module__input_size': 1, 'module__num_classes': 1, 'module__num_layers': 1}, {'lr': 0.005, 'module__hidden_size': 16, 'module__input_size': 1, 'module__num_classes': 1, 'module__num_layers': 1}, {'lr': 0.005, 'module__hidden_size': 18, 'module__input_size': 1, 'module__num_classes': 1, 'module__num_layers': 1}, {'lr': 0.005, 'module__hidden_size': 20, 'module__input_size': 1, 'module__num_classes': 1, 'module__num_layers': 1}, {'lr': 0.05, 'module__hidden_size': 2, 'module__input_size': 1, 'module__num_classes': 1, 'module__num_layers': 1}, {'lr': 0.05, 'module__hidden_size': 4, 'module__input_size': 1, 'module__num_classes': 1, 'module__num_layers': 1}, {'lr': 0.05, 'module__hidden_size': 6, 'module__input_size': 1, 'module__num_classes': 1, 'module__num_layers': 1}, {'lr': 0.05, 'module__hidden_size': 8, 'module__input_size': 1, 'module__num_classes': 1, 'module__num_layers': 1}, {'lr': 0.05, 'module__hidden_size': 10, 'module__input_size': 1, 'module__num_classes': 1, 'module__num_layers': 1}, {'lr': 0.05, 'module__hidden_size': 12, 'module__input_size': 1, 'module__num_classes': 1, 'module__num_layers': 1}, {'lr': 0.05, 'module__hidden_size': 14, 'module__input_size': 1, 'module__num_classes': 1, 'module__num_layers': 1}, {'lr': 0.05, 'module__hidden_size': 16, 'module__input_size': 1, 'module__num_classes': 1, 'module__num_layers': 1}, {'lr': 0.05, 'module__hidden_size': 18, 'module__input_size': 1, 'module__num_classes': 1, 'module__num_layers': 1}, {'lr': 0.05, 'module__hidden_size': 20, 'module__input_size': 1, 'module__num_classes': 1, 'module__num_layers': 1}, {'lr': 0.5, 'module__hidden_size': 2, 'module__input_size': 1, 'module__num_classes': 1, 'module__num_layers': 1}, {'lr': 0.5, 'module__hidden_size': 4, 'module__input_size': 1, 'module__num_classes': 1, 'module__num_layers': 1}, {'lr': 0.5, 'module__hidden_size': 6, 'module__input_size': 1, 'module__num_classes': 1, 'module__num_layers': 1}, {'lr': 0.5, 'module__hidden_size': 8, 'module__input_size': 1, 'module__num_classes': 1, 'module__num_layers': 1}, {'lr': 0.5, 'module__hidden_size': 10, 'module__input_size': 1, 'module__num_classes': 1, 'module__num_layers': 1}, {'lr': 0.5, 'module__hidden_size': 12, 'module__input_size': 1, 'module__num_classes': 1, 'module__num_layers': 1}, {'lr': 0.5, 'module__hidden_size': 14, 'module__input_size': 1, 'module__num_classes': 1, 'module__num_layers': 1}, {'lr': 0.5, 'module__hidden_size': 16, 'module__input_size': 1, 'module__num_classes': 1, 'module__num_layers': 1}, {'lr': 0.5, 'module__hidden_size': 18, 'module__input_size': 1, 'module__num_classes': 1, 'module__num_layers': 1}, {'lr': 0.5, 'module__hidden_size': 20, 'module__input_size': 1, 'module__num_classes': 1, 'module__num_layers': 1}], 'split0_test_score': array([-0.09528868, -0.04361383, -0.02434571, -0.1756458 , -0.02225377,\n",
            "       -0.0213002 , -0.01768528, -0.01768068, -0.02653163, -0.03146926,\n",
            "       -0.01699712, -0.01608367, -0.00252987, -0.00261072, -0.01474668,\n",
            "       -0.00887405, -0.00874426, -0.00250937, -0.00245176, -0.00400371,\n",
            "       -0.00431674, -0.00265354, -0.01381391, -0.00316249, -0.00430191,\n",
            "       -0.02550091, -0.00305454, -0.00391958, -0.00406795, -0.0059969 ,\n",
            "       -0.02708452, -0.01349119, -0.01977444, -0.00218202, -0.00314497,\n",
            "       -0.01306523, -0.01331905, -0.00303724, -0.01390048, -0.01083186,\n",
            "       -0.01336163, -0.00954854, -0.00247413, -0.00333627, -0.00320435,\n",
            "       -0.00558199, -0.00274743, -0.00303501, -0.00406052, -0.00431431,\n",
            "       -0.02471133, -0.02051364, -0.02545162, -0.02554085, -0.02264834,\n",
            "       -0.02674398, -0.03542165, -0.03018067, -0.08273978, -0.02600908]), 'split1_test_score': array([-0.00672709, -0.37754494, -0.03749473, -0.24578388, -0.1279657 ,\n",
            "       -0.01828228, -0.0396385 , -0.01449626, -0.12598498, -0.01552099,\n",
            "       -0.02306745, -0.00567461, -0.00761535, -0.00534602, -0.01255983,\n",
            "       -0.00739825, -0.01084232, -0.00533052, -0.01030677, -0.00544346,\n",
            "       -0.00763631, -0.01170918, -0.00444856, -0.00411178, -0.00382775,\n",
            "       -0.00365285, -0.00652406, -0.00466259, -0.00424777, -0.00368079,\n",
            "       -0.01799797, -0.01286073, -0.01203596, -0.00589873, -0.01371875,\n",
            "       -0.00785809, -0.01099998, -0.00975687, -0.00973853, -0.00742862,\n",
            "       -0.02003085, -0.01425405, -0.00480489, -0.00403552, -0.00409211,\n",
            "       -0.00453593, -0.00445034, -0.00481368, -0.01300237, -0.01663548,\n",
            "       -0.02085529, -0.00468453, -0.01872742, -0.01083838, -0.02402323,\n",
            "       -0.00418848, -0.01987419, -0.02242839, -0.03979732, -0.02602916]), 'split2_test_score': array([-0.04119908, -0.40553147, -0.02322233, -0.0214566 , -0.11893073,\n",
            "       -0.01880732, -0.018378  , -0.01624609, -0.01500761, -0.01565166,\n",
            "       -0.01970403, -0.01289127, -0.00366779, -0.00152823, -0.0037015 ,\n",
            "       -0.00201136, -0.00163514, -0.00191358, -0.01177459, -0.00220944,\n",
            "       -0.00772696, -0.01544084, -0.00338111, -0.00234717, -0.00290522,\n",
            "       -0.01126659, -0.00245796, -0.01631777, -0.00349118, -0.00298299,\n",
            "       -0.01650651, -0.01819602, -0.01828261, -0.01484127, -0.01915161,\n",
            "       -0.01559369, -0.0101564 , -0.0114369 , -0.00976927, -0.01239005,\n",
            "       -0.01063521, -0.00194774, -0.00816229, -0.0103264 , -0.00206166,\n",
            "       -0.00311368, -0.00399575, -0.00207404, -0.02020386, -0.00284738,\n",
            "       -0.0253149 , -0.00728202, -0.02513208, -0.02159486, -0.02432283,\n",
            "       -0.02398226, -0.02442016, -0.02498311, -0.03061332, -0.01442638]), 'split3_test_score': array([-0.03243018, -0.19689725, -0.06162084, -0.03630249, -0.03876738,\n",
            "       -0.0912945 , -0.03534365, -0.03091142, -0.06243291, -0.03154227,\n",
            "       -0.05177073, -0.03594786, -0.03634739, -0.01528956, -0.02928196,\n",
            "       -0.0248376 , -0.00224267, -0.01878308, -0.03120256, -0.00601136,\n",
            "       -0.02739152, -0.00255792, -0.03157544, -0.03276316, -0.03073445,\n",
            "       -0.02268567, -0.03541134, -0.00245947, -0.00541307, -0.01361139,\n",
            "       -0.03904512, -0.04159532, -0.02703305, -0.02387261, -0.01997716,\n",
            "       -0.02545566, -0.02388505, -0.01780784, -0.02260478, -0.02124979,\n",
            "       -0.0300567 , -0.03726774, -0.00153571, -0.00317047, -0.0017762 ,\n",
            "       -0.01878533, -0.0010956 , -0.00163164, -0.00116522, -0.02449899,\n",
            "       -0.03553162, -0.04071082, -0.03356712, -0.05463656, -0.00117968,\n",
            "       -0.0553195 , -0.04904817, -0.03019821, -0.05290879, -0.03421577]), 'split4_test_score': array([-0.29604831, -0.03938471, -0.17984846, -0.10078596, -0.07661602,\n",
            "       -0.05127917, -0.02399521, -0.05257771, -0.06845327, -0.04427413,\n",
            "       -0.05320676, -0.04470849, -0.04998799, -0.04120551, -0.02179745,\n",
            "       -0.0474652 , -0.0251056 , -0.04282141, -0.00481077, -0.03499762,\n",
            "       -0.02430213, -0.04289611, -0.0023899 , -0.03047816, -0.0557343 ,\n",
            "       -0.06120571, -0.0080454 , -0.0526633 , -0.00936644, -0.00359506,\n",
            "       -0.02785132, -0.04467726, -0.03892978, -0.03916899, -0.02996114,\n",
            "       -0.04045696, -0.03733148, -0.04693109, -0.04331572, -0.03150947,\n",
            "       -0.00166794, -0.00239661, -0.05056611, -0.03607205, -0.00255902,\n",
            "       -0.00380091, -0.04124753, -0.00412966, -0.00196082, -0.04153449,\n",
            "       -0.06352962, -0.07850835, -0.07222069, -0.00223742, -0.06612466,\n",
            "       -0.21590185, -0.05030886, -0.09035412, -0.055963  , -0.07230303]), 'mean_test_score': array([-0.09433867, -0.21259444, -0.06530642, -0.11599494, -0.07690672,\n",
            "       -0.04019269, -0.02700813, -0.02638243, -0.05968208, -0.02769166,\n",
            "       -0.03294922, -0.02306118, -0.02002968, -0.01319601, -0.01641749,\n",
            "       -0.01811729, -0.009714  , -0.01427159, -0.01210929, -0.01053312,\n",
            "       -0.01427473, -0.01505152, -0.01112178, -0.01457255, -0.01950073,\n",
            "       -0.02486235, -0.01109866, -0.01600454, -0.00531728, -0.00597343,\n",
            "       -0.02569709, -0.0261641 , -0.02321117, -0.01719272, -0.01719072,\n",
            "       -0.02048593, -0.01913839, -0.01779399, -0.01986576, -0.01668196,\n",
            "       -0.01515047, -0.01308294, -0.01350863, -0.01138814, -0.00273867,\n",
            "       -0.00716357, -0.01070733, -0.0031368 , -0.00807856, -0.01796613,\n",
            "       -0.03398855, -0.03033987, -0.03501979, -0.02296961, -0.02765975,\n",
            "       -0.06522722, -0.0358146 , -0.0396289 , -0.05240444, -0.03459668]), 'std_test_score': array([0.1048999 , 0.15699415, 0.05891656, 0.08476213, 0.04198732,\n",
            "       0.02838532, 0.00893845, 0.01432795, 0.03892386, 0.01092852,\n",
            "       0.01607589, 0.01475858, 0.01945167, 0.01482378, 0.00864648,\n",
            "       0.01652996, 0.00848768, 0.01553357, 0.01014347, 0.01230268,\n",
            "       0.00957812, 0.0148084 , 0.01101177, 0.01394965, 0.02093383,\n",
            "       0.01980239, 0.01233471, 0.01898482, 0.00211869, 0.00395461,\n",
            "       0.00810529, 0.0140138 , 0.00919422, 0.01331151, 0.00876391,\n",
            "       0.01150655, 0.01033725, 0.01530843, 0.01262923, 0.00870619,\n",
            "       0.00950137, 0.01293799, 0.01866926, 0.01262415, 0.00083254,\n",
            "       0.00586822, 0.01531433, 0.00120025, 0.00738421, 0.01424686,\n",
            "       0.01554887, 0.027255  , 0.01918737, 0.01782295, 0.02111974,\n",
            "       0.07708287, 0.01240399, 0.0255406 , 0.01770278, 0.01987916]), 'rank_test_score': array([58, 60, 56, 59, 57, 52, 42, 41, 54, 44, 46, 36, 33, 15, 23, 29,  7,\n",
            "       17, 13,  8, 18, 20, 11, 19, 31, 38, 10, 22,  3,  4, 39, 40, 37, 26,\n",
            "       25, 34, 30, 27, 32, 24, 21, 14, 16, 12,  1,  5,  9,  2,  6, 28, 47,\n",
            "       45, 49, 35, 43, 55, 50, 51, 53, 48], dtype=int32)}\n",
            "best score: -0.003, best params: {'lr': 0.05, 'module__hidden_size': 10, 'module__input_size': 1, 'module__num_classes': 1, 'module__num_layers': 1}\n"
          ]
        }
      ],
      "source": [
        "print('SEARCH COMPLETE')\n",
        "print(gs.cv_results_)\n",
        "print(\"best score: {:.3f}, best params: {}\".format(gs.best_score_, gs.best_params_))"
      ]
    },
    {
      "cell_type": "markdown",
      "metadata": {
        "id": "B7UjmURLeiKt"
      },
      "source": [
        "Using Grid Search hyperparamters for optimised LSTM model\n"
      ]
    },
    {
      "cell_type": "code",
      "execution_count": null,
      "metadata": {
        "id": "4BZo1ON8sQw6",
        "colab": {
          "base_uri": "https://localhost:8080/"
        },
        "outputId": "b3693b83-061e-4ab9-a990-6df887168594"
      },
      "outputs": [
        {
          "output_type": "stream",
          "name": "stdout",
          "text": [
            "LSTM(\n",
            "  (lstm): LSTM(1, 10, batch_first=True)\n",
            "  (fc): Linear(in_features=10, out_features=1, bias=True)\n",
            ")\n"
          ]
        }
      ],
      "source": [
        "\n",
        "input_size = 1\n",
        "hidden_size = gs.best_params_['module__hidden_size']\n",
        "num_layers = 1\n",
        "output_size = 1\n",
        "\n",
        "lstm_hyper_model = LSTM(output_size, input_size, hidden_size, num_layers)\n",
        "loss = torch.nn.MSELoss()\n",
        "optim = torch.optim.Adam(lstm_hyper_model.parameters(), lr=gs.best_params_['lr'])\n",
        "print(lstm_hyper_model)"
      ]
    },
    {
      "cell_type": "markdown",
      "metadata": {
        "id": "NuPHdVBG7n90"
      },
      "source": [
        "Hyperparamter training "
      ]
    },
    {
      "cell_type": "code",
      "execution_count": null,
      "metadata": {
        "id": "Lu1_2kIYgKre",
        "colab": {
          "base_uri": "https://localhost:8080/"
        },
        "outputId": "8382c924-7cbf-4bba-a4c4-f3bb566175a7"
      },
      "outputs": [
        {
          "output_type": "stream",
          "name": "stdout",
          "text": [
            "epoch:   1 train loss: 0.40367204\n",
            "epoch:   1validation loss: 0.00619720\n",
            "epoch:  26 train loss: 0.00437476\n",
            "epoch:  26validation loss: 0.00678266\n",
            "epoch:  51 train loss: 0.00321035\n",
            "epoch:  51validation loss: 0.00479882\n",
            "epoch:  76 train loss: 0.00309668\n",
            "epoch:  76validation loss: 0.00475775\n",
            "epoch: 101 train loss: 0.00311572\n",
            "epoch: 101validation loss: 0.00462969\n",
            "epoch: 126 train loss: 0.00309046\n",
            "epoch: 126validation loss: 0.00447148\n"
          ]
        }
      ],
      "source": [
        "start = time.time()\n",
        "\n",
        "epochs = 150\n",
        "train_loss = []\n",
        "val_loss = []\n",
        "\n",
        "for i in range(epochs):\n",
        "  lstm_hyper_model.train()\n",
        "  epoch_loss = 0.0\n",
        "  for x_train,y_train in trainloader:\n",
        "      \n",
        "    optim.zero_grad()  \n",
        "\n",
        "    y_pred = lstm_hyper_model(x_train)\n",
        "\n",
        "    single_loss = loss(y_pred, y_train)\n",
        "    single_loss.backward()\n",
        "    optim.step()\n",
        "\n",
        "    train_loss.append(single_loss.item())\n",
        "\n",
        "    if i%25 == 1:\n",
        "        print(f'epoch: {i:3} train loss: {single_loss.item():10.8f}')\n",
        "\n",
        "  lstm_hyper_model.eval()\n",
        "  for x_val,y_val in valloader:\n",
        "\n",
        "    optim.zero_grad()  \n",
        "\n",
        "    y_pred = lstm_hyper_model(x_val)\n",
        "\n",
        "    single_loss = loss(y_pred, y_val)\n",
        "    single_loss.backward()\n",
        "    optim.step()\n",
        "\n",
        "    val_loss.append(single_loss.item())\n",
        "\n",
        "    if i%25 == 1:\n",
        "        print(f'epoch: {i:3}validation loss: {single_loss.item():10.8f}')\n",
        "\n",
        "end = time.time()"
      ]
    },
    {
      "cell_type": "code",
      "execution_count": null,
      "metadata": {
        "id": "pUItyyT_klza",
        "colab": {
          "base_uri": "https://localhost:8080/"
        },
        "outputId": "1c87baf7-5db4-4884-b227-8eb1bd3ba1a8"
      },
      "outputs": [
        {
          "output_type": "stream",
          "name": "stdout",
          "text": [
            "Optmised model training time: 1.1788480281829834 s\n"
          ]
        }
      ],
      "source": [
        "print('Optmised model training time:', end - start, 's')"
      ]
    },
    {
      "cell_type": "code",
      "execution_count": null,
      "metadata": {
        "id": "KcpN2MdC8E_p",
        "colab": {
          "base_uri": "https://localhost:8080/",
          "height": 295
        },
        "outputId": "bfd278de-9cf5-45b4-9dbe-6aa32ccde061"
      },
      "outputs": [
        {
          "output_type": "display_data",
          "data": {
            "text/plain": [
              "<Figure size 432x288 with 1 Axes>"
            ],
            "image/png": "[encoded data removed]"
          },
          "metadata": {
            "needs_background": "light"
          }
        }
      ],
      "source": [
        "fig, ax = plt.subplots()\n",
        "ax.plot(val_loss,label=\"val\")\n",
        "ax.plot(train_loss,label=\"train\")\n",
        "ax.vlines(30, 0, 1, linestyles='dashed', colors='red')\n",
        "plt.xlabel(\"iterations\")\n",
        "plt.ylabel(\"Loss\")\n",
        "plt.title(\"Training and Validation Loss UK dataset\")\n",
        "plt.legend()\n",
        "plt.show()"
      ]
    },
    {
      "cell_type": "code",
      "execution_count": null,
      "metadata": {
        "id": "SylR4oM7em81",
        "colab": {
          "base_uri": "https://localhost:8080/"
        },
        "outputId": "c3f92321-b8a3-4bdf-945d-ccb04ce280b2"
      },
      "outputs": [
        {
          "output_type": "stream",
          "name": "stdout",
          "text": [
            "tensor([[0.8801],\n",
            "        [0.9053],\n",
            "        [0.9145],\n",
            "        [0.9039],\n",
            "        [0.8511],\n",
            "        [0.8054],\n",
            "        [0.8109],\n",
            "        [0.8101],\n",
            "        [0.8242],\n",
            "        [0.8553],\n",
            "        [0.8500],\n",
            "        [0.8350],\n",
            "        [0.7366],\n",
            "        [0.7555],\n",
            "        [0.8331],\n",
            "        [0.9522],\n",
            "        [0.9962],\n",
            "        [0.9496],\n",
            "        [0.8727],\n",
            "        [0.7802],\n",
            "        [0.7256],\n",
            "        [0.7022],\n",
            "        [0.6980],\n",
            "        [0.8463]], grad_fn=<AddmmBackward0>)\n"
          ]
        }
      ],
      "source": [
        "lstm_hyper_model.eval()\n",
        "for x_test,y_test in testloader:\n",
        "  \n",
        "  y_test_pred = lstm_hyper_model(x_test)\n",
        "  \n",
        "print(y_test_pred)"
      ]
    },
    {
      "cell_type": "code",
      "execution_count": null,
      "metadata": {
        "id": "kZA0FnBYfYHa",
        "colab": {
          "base_uri": "https://localhost:8080/",
          "height": 977
        },
        "outputId": "f18e0fb5-361a-4b2f-9400-b8820e98e18b"
      },
      "outputs": [
        {
          "output_type": "stream",
          "name": "stdout",
          "text": [
            "(24, 1)\n",
            "[[161318.64]\n",
            " [164319.77]\n",
            " [165412.72]\n",
            " [164149.16]\n",
            " [157882.08]\n",
            " [152449.47]\n",
            " [153104.8 ]\n",
            " [153004.5 ]\n",
            " [154677.98]\n",
            " [158382.19]\n",
            " [157748.3 ]\n",
            " [155962.25]\n",
            " [144283.1 ]\n",
            " [146521.73]\n",
            " [155735.95]\n",
            " [169889.94]\n",
            " [175111.95]\n",
            " [169570.72]\n",
            " [160439.84]\n",
            " [149461.11]\n",
            " [142974.11]\n",
            " [140190.5 ]\n",
            " [139694.08]\n",
            " [157307.58]]\n"
          ]
        },
        {
          "output_type": "display_data",
          "data": {
            "text/plain": [
              "<Figure size 432x288 with 1 Axes>"
            ],
            "image/png": "[encoded data removed]"
          },
          "metadata": {
            "needs_background": "light"
          }
        },
        {
          "output_type": "display_data",
          "data": {
            "text/plain": [
              "<Figure size 432x288 with 1 Axes>"
            ],
            "image/png": "[encoded data removed]"
          },
          "metadata": {
            "needs_background": "light"
          }
        }
      ],
      "source": [
        "\n",
        "data_predict = y_test_pred.data.numpy()\n",
        "print(data_predict.shape)\n",
        "\n",
        "predictions_rescaled = scaler.inverse_transform(data_predict)\n",
        "print(predictions_rescaled)\n",
        "\n",
        "df = pd.DataFrame(predictions_rescaled, index=crime_data_df_2.index[72:96])\n",
        "\n",
        "fig, ax = plt.subplots()\n",
        "ax.plot(crime_data_df_2)\n",
        "ax.plot(df)\n",
        "plt.title(\"Time Series of Violent crime in the UK\")\n",
        "plt.xlabel(\"Time\")\n",
        "plt.ylabel(\"Number of Violent Crimes\")\n",
        "plt.show()\n",
        "\n",
        "fig, ax = plt.subplots()\n",
        "ax.plot(crime_data_df_2.index[72:96], crime_data_df_2['Total'][72:96])\n",
        "plt.plot(df)\n",
        "plt.show()"
      ]
    },
    {
      "cell_type": "code",
      "execution_count": null,
      "metadata": {
        "id": "TJYtiRlnkS3V",
        "colab": {
          "base_uri": "https://localhost:8080/"
        },
        "outputId": "1ed74dad-3587-451d-dc79-2aeba16eea80"
      },
      "outputs": [
        {
          "output_type": "stream",
          "name": "stdout",
          "text": [
            "Mean squared error for 12 forecast steps: 10641.791804814957\n",
            "Mean absolute percentage error for 12 forecast steps: 0.048262823068012474\n"
          ]
        }
      ],
      "source": [
        "test_rescaled = crime_data_df_2['Total'][72:96]\n",
        "\n",
        "rmse = skm.mean_squared_error(test_rescaled, predictions_rescaled, squared = False)\n",
        "print(\"Mean squared error for 12 forecast steps:\", rmse)\n",
        "mape = skm.mean_absolute_percentage_error(test_rescaled, predictions_rescaled)\n",
        "print(\"Mean absolute percentage error for 12 forecast steps:\", mape)"
      ]
    },
    {
      "cell_type": "code",
      "execution_count": null,
      "metadata": {
        "id": "LmYXUgo4C77M"
      },
      "outputs": [],
      "source": [
        ""
      ]
    }
  ],
  "metadata": {
    "colab": {
      "collapsed_sections": [],
      "name": "LSTM Forecasting UK.ipynb",
      "provenance": []
    },
    "kernelspec": {
      "display_name": "Python 3",
      "name": "python3"
    },
    "language_info": {
      "name": "python"
    }
  },
  "nbformat": 4,
  "nbformat_minor": 0
}