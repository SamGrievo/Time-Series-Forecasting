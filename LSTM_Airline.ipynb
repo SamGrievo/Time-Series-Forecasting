{
  "nbformat": 4,
  "nbformat_minor": 0,
  "metadata": {
    "colab": {
      "name": "LSTM_Airline.ipynb",
      "provenance": [],
      "collapsed_sections": []
    },
    "kernelspec": {
      "name": "python3",
      "display_name": "Python 3"
    },
    "language_info": {
      "name": "python"
    }
  },
  "cells": [
    {
      "cell_type": "code",
      "execution_count": null,
      "metadata": {
        "id": "tP3ZQv7KXgQt"
      },
      "outputs": [],
      "source": [
        "import statsmodels.tsa.api as smtsa\n",
        "from statsmodels.graphics.tsaplots import plot_acf, plot_pacf\n",
        "from statsmodels.tsa.stattools import adfuller\n",
        "import warnings\n",
        "warnings.filterwarnings(\"ignore\") \n",
        "import sklearn as sk\n",
        "from sklearn.model_selection import train_test_split\n",
        "import pandas as pd\n",
        "import math as math\n",
        "import numpy as np\n",
        "import matplotlib.pyplot as plt\n",
        "import sklearn.metrics as skm\n",
        "import sklearn.preprocessing as skp\n",
        "import seaborn as sns \n",
        "import itertools as it\n",
        "import torch\n",
        "from torch.autograd import Variable\n",
        "%matplotlib inline "
      ]
    },
    {
      "cell_type": "code",
      "source": [
        "def custom_data_prep(data, window):\n",
        "    x = []\n",
        "    y = []\n",
        "\n",
        "    for i in range(len(data)-window-1):\n",
        "        _x = data[i:(i+window)]\n",
        "        _y = data[i+window]\n",
        "        x.append(_x)\n",
        "        y.append(_y)\n",
        "\n",
        "    return np.array(x),np.array(y)"
      ],
      "metadata": {
        "id": "DSY7MtT8Xk-p"
      },
      "execution_count": null,
      "outputs": []
    },
    {
      "cell_type": "code",
      "source": [
        "airline_data_df = pd.read_csv(\"AirPassengers.csv\")\n",
        "airline_data_df.head(5)\n"
      ],
      "metadata": {
        "id": "ZwQdrBL7Xo9J",
        "colab": {
          "base_uri": "https://localhost:8080/",
          "height": 206
        },
        "outputId": "4534f630-91a9-469f-8acd-3e4b0cbb2a37"
      },
      "execution_count": null,
      "outputs": [
        {
          "output_type": "execute_result",
          "data": {
            "text/plain": [
              "     Month  #Passengers\n",
              "0  1949-01          112\n",
              "1  1949-02          118\n",
              "2  1949-03          132\n",
              "3  1949-04          129\n",
              "4  1949-05          121"
            ],
            "text/html": [
              "\n",
              "  <div id=\"df-6f3c3975-6204-47a3-ae86-11aacf872650\">\n",
              "    <div class=\"colab-df-container\">\n",
              "      <div>\n",
              "<style scoped>\n",
              "    .dataframe tbody tr th:only-of-type {\n",
              "        vertical-align: middle;\n",
              "    }\n",
              "\n",
              "    .dataframe tbody tr th {\n",
              "        vertical-align: top;\n",
              "    }\n",
              "\n",
              "    .dataframe thead th {\n",
              "        text-align: right;\n",
              "    }\n",
              "</style>\n",
              "<table border=\"1\" class=\"dataframe\">\n",
              "  <thead>\n",
              "    <tr style=\"text-align: right;\">\n",
              "      <th></th>\n",
              "      <th>Month</th>\n",
              "      <th>#Passengers</th>\n",
              "    </tr>\n",
              "  </thead>\n",
              "  <tbody>\n",
              "    <tr>\n",
              "      <th>0</th>\n",
              "      <td>1949-01</td>\n",
              "      <td>112</td>\n",
              "    </tr>\n",
              "    <tr>\n",
              "      <th>1</th>\n",
              "      <td>1949-02</td>\n",
              "      <td>118</td>\n",
              "    </tr>\n",
              "    <tr>\n",
              "      <th>2</th>\n",
              "      <td>1949-03</td>\n",
              "      <td>132</td>\n",
              "    </tr>\n",
              "    <tr>\n",
              "      <th>3</th>\n",
              "      <td>1949-04</td>\n",
              "      <td>129</td>\n",
              "    </tr>\n",
              "    <tr>\n",
              "      <th>4</th>\n",
              "      <td>1949-05</td>\n",
              "      <td>121</td>\n",
              "    </tr>\n",
              "  </tbody>\n",
              "</table>\n",
              "</div>\n",
              "      <button class=\"colab-df-convert\" onclick=\"convertToInteractive('df-6f3c3975-6204-47a3-ae86-11aacf872650')\"\n",
              "              title=\"Convert this dataframe to an interactive table.\"\n",
              "              style=\"display:none;\">\n",
              "        \n",
              "  <svg xmlns=\"http://www.w3.org/2000/svg\" height=\"24px\"viewBox=\"0 0 24 24\"\n",
              "       width=\"24px\">\n",
              "    <path d=\"M0 0h24v24H0V0z\" fill=\"none\"/>\n",
              "    <path d=\"M18.56 5.44l.94 2.06.94-2.06 2.06-.94-2.06-.94-.94-2.06-.94 2.06-2.06.94zm-11 1L8.5 8.5l.94-2.06 2.06-.94-2.06-.94L8.5 2.5l-.94 2.06-2.06.94zm10 10l.94 2.06.94-2.06 2.06-.94-2.06-.94-.94-2.06-.94 2.06-2.06.94z\"/><path d=\"M17.41 7.96l-1.37-1.37c-.4-.4-.92-.59-1.43-.59-.52 0-1.04.2-1.43.59L10.3 9.45l-7.72 7.72c-.78.78-.78 2.05 0 2.83L4 21.41c.39.39.9.59 1.41.59.51 0 1.02-.2 1.41-.59l7.78-7.78 2.81-2.81c.8-.78.8-2.07 0-2.86zM5.41 20L4 18.59l7.72-7.72 1.47 1.35L5.41 20z\"/>\n",
              "  </svg>\n",
              "      </button>\n",
              "      \n",
              "  <style>\n",
              "    .colab-df-container {\n",
              "      display:flex;\n",
              "      flex-wrap:wrap;\n",
              "      gap: 12px;\n",
              "    }\n",
              "\n",
              "    .colab-df-convert {\n",
              "      background-color: #E8F0FE;\n",
              "      border: none;\n",
              "      border-radius: 50%;\n",
              "      cursor: pointer;\n",
              "      display: none;\n",
              "      fill: #1967D2;\n",
              "      height: 32px;\n",
              "      padding: 0 0 0 0;\n",
              "      width: 32px;\n",
              "    }\n",
              "\n",
              "    .colab-df-convert:hover {\n",
              "      background-color: #E2EBFA;\n",
              "      box-shadow: 0px 1px 2px rgba(60, 64, 67, 0.3), 0px 1px 3px 1px rgba(60, 64, 67, 0.15);\n",
              "      fill: #174EA6;\n",
              "    }\n",
              "\n",
              "    [theme=dark] .colab-df-convert {\n",
              "      background-color: #3B4455;\n",
              "      fill: #D2E3FC;\n",
              "    }\n",
              "\n",
              "    [theme=dark] .colab-df-convert:hover {\n",
              "      background-color: #434B5C;\n",
              "      box-shadow: 0px 1px 3px 1px rgba(0, 0, 0, 0.15);\n",
              "      filter: drop-shadow(0px 1px 2px rgba(0, 0, 0, 0.3));\n",
              "      fill: #FFFFFF;\n",
              "    }\n",
              "  </style>\n",
              "\n",
              "      <script>\n",
              "        const buttonEl =\n",
              "          document.querySelector('#df-6f3c3975-6204-47a3-ae86-11aacf872650 button.colab-df-convert');\n",
              "        buttonEl.style.display =\n",
              "          google.colab.kernel.accessAllowed ? 'block' : 'none';\n",
              "\n",
              "        async function convertToInteractive(key) {\n",
              "          const element = document.querySelector('#df-6f3c3975-6204-47a3-ae86-11aacf872650');\n",
              "          const dataTable =\n",
              "            await google.colab.kernel.invokeFunction('convertToInteractive',\n",
              "                                                     [key], {});\n",
              "          if (!dataTable) return;\n",
              "\n",
              "          const docLinkHtml = 'Like what you see? Visit the ' +\n",
              "            '<a target=\"_blank\" href=https://colab.research.google.com/notebooks/data_table.ipynb>data table notebook</a>'\n",
              "            + ' to learn more about interactive tables.';\n",
              "          element.innerHTML = '';\n",
              "          dataTable['output_type'] = 'display_data';\n",
              "          await google.colab.output.renderOutput(dataTable, element);\n",
              "          const docLink = document.createElement('div');\n",
              "          docLink.innerHTML = docLinkHtml;\n",
              "          element.appendChild(docLink);\n",
              "        }\n",
              "      </script>\n",
              "    </div>\n",
              "  </div>\n",
              "  "
            ]
          },
          "metadata": {},
          "execution_count": 14
        }
      ]
    },
    {
      "cell_type": "code",
      "source": [
        "month = airline_data_df.Month.astype('datetime64[ns]')\n",
        "airline_data_df_idxd = airline_data_df.drop(columns='Month')\n",
        "airline_data_df_2 = airline_data_df_idxd.set_index(pd.to_datetime(month))\n",
        "airline_data_df_2.head()"
      ],
      "metadata": {
        "colab": {
          "base_uri": "https://localhost:8080/",
          "height": 237
        },
        "id": "xbewERUnmOAW",
        "outputId": "1bfae5cb-63f9-4592-f91a-297d8eeeadf1"
      },
      "execution_count": null,
      "outputs": [
        {
          "output_type": "execute_result",
          "data": {
            "text/plain": [
              "            #Passengers\n",
              "Month                  \n",
              "1949-01-01          112\n",
              "1949-02-01          118\n",
              "1949-03-01          132\n",
              "1949-04-01          129\n",
              "1949-05-01          121"
            ],
            "text/html": [
              "\n",
              "  <div id=\"df-d51ee13a-4c40-4130-a6e6-a55718629c5b\">\n",
              "    <div class=\"colab-df-container\">\n",
              "      <div>\n",
              "<style scoped>\n",
              "    .dataframe tbody tr th:only-of-type {\n",
              "        vertical-align: middle;\n",
              "    }\n",
              "\n",
              "    .dataframe tbody tr th {\n",
              "        vertical-align: top;\n",
              "    }\n",
              "\n",
              "    .dataframe thead th {\n",
              "        text-align: right;\n",
              "    }\n",
              "</style>\n",
              "<table border=\"1\" class=\"dataframe\">\n",
              "  <thead>\n",
              "    <tr style=\"text-align: right;\">\n",
              "      <th></th>\n",
              "      <th>#Passengers</th>\n",
              "    </tr>\n",
              "    <tr>\n",
              "      <th>Month</th>\n",
              "      <th></th>\n",
              "    </tr>\n",
              "  </thead>\n",
              "  <tbody>\n",
              "    <tr>\n",
              "      <th>1949-01-01</th>\n",
              "      <td>112</td>\n",
              "    </tr>\n",
              "    <tr>\n",
              "      <th>1949-02-01</th>\n",
              "      <td>118</td>\n",
              "    </tr>\n",
              "    <tr>\n",
              "      <th>1949-03-01</th>\n",
              "      <td>132</td>\n",
              "    </tr>\n",
              "    <tr>\n",
              "      <th>1949-04-01</th>\n",
              "      <td>129</td>\n",
              "    </tr>\n",
              "    <tr>\n",
              "      <th>1949-05-01</th>\n",
              "      <td>121</td>\n",
              "    </tr>\n",
              "  </tbody>\n",
              "</table>\n",
              "</div>\n",
              "      <button class=\"colab-df-convert\" onclick=\"convertToInteractive('df-d51ee13a-4c40-4130-a6e6-a55718629c5b')\"\n",
              "              title=\"Convert this dataframe to an interactive table.\"\n",
              "              style=\"display:none;\">\n",
              "        \n",
              "  <svg xmlns=\"http://www.w3.org/2000/svg\" height=\"24px\"viewBox=\"0 0 24 24\"\n",
              "       width=\"24px\">\n",
              "    <path d=\"M0 0h24v24H0V0z\" fill=\"none\"/>\n",
              "    <path d=\"M18.56 5.44l.94 2.06.94-2.06 2.06-.94-2.06-.94-.94-2.06-.94 2.06-2.06.94zm-11 1L8.5 8.5l.94-2.06 2.06-.94-2.06-.94L8.5 2.5l-.94 2.06-2.06.94zm10 10l.94 2.06.94-2.06 2.06-.94-2.06-.94-.94-2.06-.94 2.06-2.06.94z\"/><path d=\"M17.41 7.96l-1.37-1.37c-.4-.4-.92-.59-1.43-.59-.52 0-1.04.2-1.43.59L10.3 9.45l-7.72 7.72c-.78.78-.78 2.05 0 2.83L4 21.41c.39.39.9.59 1.41.59.51 0 1.02-.2 1.41-.59l7.78-7.78 2.81-2.81c.8-.78.8-2.07 0-2.86zM5.41 20L4 18.59l7.72-7.72 1.47 1.35L5.41 20z\"/>\n",
              "  </svg>\n",
              "      </button>\n",
              "      \n",
              "  <style>\n",
              "    .colab-df-container {\n",
              "      display:flex;\n",
              "      flex-wrap:wrap;\n",
              "      gap: 12px;\n",
              "    }\n",
              "\n",
              "    .colab-df-convert {\n",
              "      background-color: #E8F0FE;\n",
              "      border: none;\n",
              "      border-radius: 50%;\n",
              "      cursor: pointer;\n",
              "      display: none;\n",
              "      fill: #1967D2;\n",
              "      height: 32px;\n",
              "      padding: 0 0 0 0;\n",
              "      width: 32px;\n",
              "    }\n",
              "\n",
              "    .colab-df-convert:hover {\n",
              "      background-color: #E2EBFA;\n",
              "      box-shadow: 0px 1px 2px rgba(60, 64, 67, 0.3), 0px 1px 3px 1px rgba(60, 64, 67, 0.15);\n",
              "      fill: #174EA6;\n",
              "    }\n",
              "\n",
              "    [theme=dark] .colab-df-convert {\n",
              "      background-color: #3B4455;\n",
              "      fill: #D2E3FC;\n",
              "    }\n",
              "\n",
              "    [theme=dark] .colab-df-convert:hover {\n",
              "      background-color: #434B5C;\n",
              "      box-shadow: 0px 1px 3px 1px rgba(0, 0, 0, 0.15);\n",
              "      filter: drop-shadow(0px 1px 2px rgba(0, 0, 0, 0.3));\n",
              "      fill: #FFFFFF;\n",
              "    }\n",
              "  </style>\n",
              "\n",
              "      <script>\n",
              "        const buttonEl =\n",
              "          document.querySelector('#df-d51ee13a-4c40-4130-a6e6-a55718629c5b button.colab-df-convert');\n",
              "        buttonEl.style.display =\n",
              "          google.colab.kernel.accessAllowed ? 'block' : 'none';\n",
              "\n",
              "        async function convertToInteractive(key) {\n",
              "          const element = document.querySelector('#df-d51ee13a-4c40-4130-a6e6-a55718629c5b');\n",
              "          const dataTable =\n",
              "            await google.colab.kernel.invokeFunction('convertToInteractive',\n",
              "                                                     [key], {});\n",
              "          if (!dataTable) return;\n",
              "\n",
              "          const docLinkHtml = 'Like what you see? Visit the ' +\n",
              "            '<a target=\"_blank\" href=https://colab.research.google.com/notebooks/data_table.ipynb>data table notebook</a>'\n",
              "            + ' to learn more about interactive tables.';\n",
              "          element.innerHTML = '';\n",
              "          dataTable['output_type'] = 'display_data';\n",
              "          await google.colab.output.renderOutput(dataTable, element);\n",
              "          const docLink = document.createElement('div');\n",
              "          docLink.innerHTML = docLinkHtml;\n",
              "          element.appendChild(docLink);\n",
              "        }\n",
              "      </script>\n",
              "    </div>\n",
              "  </div>\n",
              "  "
            ]
          },
          "metadata": {},
          "execution_count": 15
        }
      ]
    },
    {
      "cell_type": "code",
      "source": [
        "plt.plot(airline_data_df_2)\n",
        "plt.title(\"Time Series of Airline Passengers\")\n",
        "plt.xlabel(\"Time\")\n",
        "plt.ylabel(\"Number of Violent Crimes\")\n",
        "plt.show()"
      ],
      "metadata": {
        "colab": {
          "base_uri": "https://localhost:8080/",
          "height": 295
        },
        "id": "I9paGPKKYz74",
        "outputId": "f05ba9db-ca07-416e-b5ea-9c46d63df2e6"
      },
      "execution_count": null,
      "outputs": [
        {
          "output_type": "display_data",
          "data": {
            "text/plain": [
              "<Figure size 432x288 with 1 Axes>"
            ],
            "image/png": "[encoded data removed]"
          },
          "metadata": {
            "needs_background": "light"
          }
        }
      ]
    },
    {
      "cell_type": "code",
      "source": [
        "#Scale the values between 0-1 as deep learning models can better interpret data.\n",
        "scaler = skp.MinMaxScaler()\n",
        "x_vals_scaled = scaler.fit_transform(airline_data_df_2.values)\n",
        "\n",
        "window = 12\n",
        "\n",
        "x, y = custom_data_prep(x_vals_scaled, window)\n",
        "\n"
      ],
      "metadata": {
        "id": "kCukK-SbsnKd"
      },
      "execution_count": null,
      "outputs": []
    },
    {
      "cell_type": "code",
      "source": [
        "#Scale the values between 0-1 as deep learning models can better interpret data.\n",
        "scaler = skp.MinMaxScaler()\n",
        "x_vals_scaled = scaler.fit_transform(airline_data_df_2.values)\n",
        "\n",
        "window = 12\n",
        "\n",
        "x, y = custom_data_prep(x_vals_scaled, window)\n",
        "\n",
        "#split the data into train, validation and test splits.\n",
        "\n",
        "x_train, x_rem, y_train, y_rem = train_test_split(x,y, train_size=0.82)\n",
        "\n",
        "x_valid, x_test, y_valid, y_test = train_test_split(x_rem,y_rem, test_size=0.5)\n",
        "\n",
        "print('Training set:', x_train.shape, y_train.shape)\n",
        "print('Validation set:', x_valid.shape, y_valid.shape)\n",
        "print('Testing set:', x_test.shape, y_test.shape)\n",
        "\n",
        "#Convert the data into pytorch tensors, then into dataloader, this makes it easier for the LSTM to digest.\n",
        "\n",
        "train_x = Variable(torch.Tensor(np.array(x_train)))\n",
        "train_y = Variable(torch.Tensor(np.array(y_train)))\n",
        "\n",
        "train_dataset = torch.utils.data.TensorDataset(train_x, train_y)\n",
        "trainloader = torch.utils.data.DataLoader(train_dataset, batch_size=107)\n",
        "\n",
        "data_batch, target_batch = next(iter(trainloader))\n",
        "print(data_batch.size())\n",
        "print(target_batch.size())\n",
        "print('Training Window:', data_batch[0])\n",
        "print('Target:', target_batch[0])\n",
        "\n",
        "val_x = Variable(torch.Tensor(np.array(x_valid)))\n",
        "val_y = Variable(torch.Tensor(np.array(y_valid)))\n",
        "\n",
        "val_dataset = torch.utils.data.TensorDataset(val_x, val_y)\n",
        "valloader = torch.utils.data.DataLoader(val_dataset, batch_size=12)\n",
        "\n",
        "data_batch, target_batch = next(iter(valloader))\n",
        "print(data_batch.size())\n",
        "print(target_batch.size())\n",
        "print('Training Window:', data_batch[0])\n",
        "print('Target:', target_batch[0])\n",
        "\n",
        "test_x = Variable(torch.Tensor(np.array(x_test)))\n",
        "test_y = Variable(torch.Tensor(np.array(y_test)))\n",
        "\n",
        "test_dataset = torch.utils.data.TensorDataset(test_x, test_y)\n",
        "testloader = torch.utils.data.DataLoader(test_dataset, batch_size=12)\n",
        "\n",
        "test_data_batch, test_target_batch = next(iter(testloader))\n",
        "print(test_data_batch.size())\n",
        "print(test_target_batch.size())\n",
        "print('Training Window:', test_data_batch[0])\n",
        "print('Target:', test_target_batch[0])"
      ],
      "metadata": {
        "colab": {
          "base_uri": "https://localhost:8080/"
        },
        "id": "_FSQWsu6XrTw",
        "outputId": "abd71ca7-1fc8-4be8-ff14-90ff9497ce93"
      },
      "execution_count": null,
      "outputs": [
        {
          "output_type": "stream",
          "name": "stdout",
          "text": [
            "Training set: (107, 12, 1) (107, 1)\n",
            "Validation set: (12, 12, 1) (12, 1)\n",
            "Testing set: (12, 12, 1) (12, 1)\n",
            "torch.Size([107, 12, 1])\n",
            "torch.Size([107, 1])\n",
            "Training Window: tensor([[0.1042],\n",
            "        [0.0560],\n",
            "        [0.0193],\n",
            "        [0.0695],\n",
            "        [0.0792],\n",
            "        [0.0888],\n",
            "        [0.1429],\n",
            "        [0.1139],\n",
            "        [0.1313],\n",
            "        [0.1429],\n",
            "        [0.1834],\n",
            "        [0.1834]])\n",
            "Target: tensor([0.1544])\n",
            "torch.Size([12, 12, 1])\n",
            "torch.Size([12, 1])\n",
            "Training Window: tensor([[0.0888],\n",
            "        [0.1429],\n",
            "        [0.1139],\n",
            "        [0.1313],\n",
            "        [0.1429],\n",
            "        [0.1834],\n",
            "        [0.1834],\n",
            "        [0.1544],\n",
            "        [0.1120],\n",
            "        [0.0811],\n",
            "        [0.1197],\n",
            "        [0.1293]])\n",
            "Target: tensor([0.1467])\n",
            "torch.Size([12, 12, 1])\n",
            "torch.Size([12, 1])\n",
            "Training Window: tensor([[0.5830],\n",
            "        [0.5637],\n",
            "        [0.6100],\n",
            "        [0.7104],\n",
            "        [0.8571],\n",
            "        [0.8784],\n",
            "        [0.6931],\n",
            "        [0.5849],\n",
            "        [0.4981],\n",
            "        [0.5811],\n",
            "        [0.6042],\n",
            "        [0.5541]])\n",
            "Target: tensor([0.6081])\n"
          ]
        }
      ]
    },
    {
      "cell_type": "code",
      "source": [
        "class LSTM(torch.nn.Module):\n",
        "\n",
        "    def __init__(self, num_classes, input_size, hidden_size, num_layers):\n",
        "        super(LSTM, self).__init__()\n",
        "        #num_classes = output dimension, num_layers = amount of LSTM layers stacked, input_size = input data dimension (window size), hidden_size = hidden neurons per layer.\n",
        "        self.num_classes = num_classes\n",
        "        self.num_layers = num_layers\n",
        "        self.input_size = input_size\n",
        "        self.hidden_size = hidden_size\n",
        "        self.seq_length = window\n",
        "        #PyTorch LSTM module\n",
        "        self.lstm = torch.nn.LSTM(input_size=input_size, hidden_size=hidden_size,\n",
        "                            num_layers=num_layers, batch_first=True)\n",
        "        #PyTorch linear layer for output\n",
        "        self.fc = torch.nn.Linear(hidden_size, num_classes)\n",
        "    #forward pass of cell and hidden state\n",
        "    def forward(self, x):\n",
        "      #hidden state output\n",
        "        h_0 = Variable(torch.zeros(\n",
        "            self.num_layers, x.size(0), self.hidden_size))\n",
        "        #cell output\n",
        "        c_0 = Variable(torch.zeros(\n",
        "            self.num_layers, x.size(0), self.hidden_size))\n",
        "        \n",
        "        # Propagate input through LSTM\n",
        "        ula, (h_out, _) = self.lstm(x, (h_0, c_0))\n",
        "        \n",
        "        h_out = h_out.view(-1, self.hidden_size)\n",
        "        \n",
        "        out = self.fc(h_out)\n",
        "        \n",
        "        return out"
      ],
      "metadata": {
        "id": "aJaVGuOwYmfQ"
      },
      "execution_count": null,
      "outputs": []
    },
    {
      "cell_type": "code",
      "source": [
        "input_size = 1\n",
        "hidden_size = 12\n",
        "num_layers = 1\n",
        "output_size = 1\n",
        "\n",
        "lstm_model = LSTM(output_size, input_size, hidden_size, num_layers)\n",
        "loss = torch.nn.MSELoss()\n",
        "optim = torch.optim.Adam(lstm_model.parameters(), lr=0.01)\n",
        "print(lstm_model)"
      ],
      "metadata": {
        "colab": {
          "base_uri": "https://localhost:8080/"
        },
        "id": "oCQfe5CVZYPh",
        "outputId": "9337ea52-89a2-4eff-d0b4-1d4cafd86536"
      },
      "execution_count": null,
      "outputs": [
        {
          "output_type": "stream",
          "name": "stdout",
          "text": [
            "LSTM(\n",
            "  (lstm): LSTM(1, 12, batch_first=True)\n",
            "  (fc): Linear(in_features=12, out_features=1, bias=True)\n",
            ")\n"
          ]
        }
      ]
    },
    {
      "cell_type": "code",
      "source": [
        "epochs = 150\n",
        "train_loss = []\n",
        "val_loss = []\n",
        "for i in range(epochs):\n",
        "\n",
        "  #training loop\n",
        "  \n",
        "  lstm_model.train()\n",
        "  for x,y in trainloader:\n",
        "\n",
        "    optim.zero_grad()  \n",
        "\n",
        "    y_pred = lstm_model(x)\n",
        "\n",
        "    single_loss = loss(y_pred, y)\n",
        "    single_loss.backward()\n",
        "    optim.step()\n",
        "\n",
        "    train_loss.append(single_loss.item())\n",
        "\n",
        "    if i%25 == 1:\n",
        "        print(f'epoch: {i:3} train_loss: {single_loss.item():10.8f}')\n",
        "\n",
        "  \n",
        "  lstm_model.eval()\n",
        "  for x,y in valloader:\n",
        "\n",
        "    optim.zero_grad()  \n",
        "\n",
        "    y_pred = lstm_model(x)\n",
        "\n",
        "    single_loss = loss(y_pred, y)\n",
        "    single_loss.backward()\n",
        "    optim.step()\n",
        "\n",
        "    val_loss.append(single_loss.item())\n",
        "\n",
        "    if i%25 == 1:\n",
        "        print(f'epoch: {i:3}val_ loss: {single_loss.item():10.8f}')"
      ],
      "metadata": {
        "colab": {
          "base_uri": "https://localhost:8080/"
        },
        "id": "qbZR2MijZ84J",
        "outputId": "41500994-c444-4721-c4ea-cc116acf6ffb"
      },
      "execution_count": null,
      "outputs": [
        {
          "output_type": "stream",
          "name": "stdout",
          "text": [
            "epoch:   1 train_loss: 0.06355601\n",
            "epoch:   1val_ loss: 0.02034262\n",
            "epoch:  26 train_loss: 0.00859149\n",
            "epoch:  26val_ loss: 0.00614362\n",
            "epoch:  51 train_loss: 0.00742980\n",
            "epoch:  51val_ loss: 0.00469598\n",
            "epoch:  76 train_loss: 0.00545457\n",
            "epoch:  76val_ loss: 0.00338427\n",
            "epoch: 101 train_loss: 0.00330313\n",
            "epoch: 101val_ loss: 0.00238886\n",
            "epoch: 126 train_loss: 0.00162369\n",
            "epoch: 126val_ loss: 0.00124941\n"
          ]
        }
      ]
    },
    {
      "cell_type": "code",
      "source": [
        "print(train_loss)\n",
        "plt.title(\"Training and Validation Loss\")\n",
        "plt.plot(val_loss,label=\"val\")\n",
        "plt.plot(train_loss,label=\"train\")\n",
        "plt.xlabel(\"iterations\")\n",
        "plt.ylabel(\"Loss\")\n",
        "plt.legend()\n",
        "plt.show()"
      ],
      "metadata": {
        "colab": {
          "base_uri": "https://localhost:8080/",
          "height": 333
        },
        "id": "m8lLFoodmgDL",
        "outputId": "72289c72-be2b-4d88-a4ed-9761392f6010"
      },
      "execution_count": null,
      "outputs": [
        {
          "output_type": "stream",
          "name": "stdout",
          "text": [
            "[0.10732118785381317, 0.063556008040905, 0.037311092019081116, 0.03456709161400795, 0.03260384127497673, 0.03000658005475998, 0.03135065361857414, 0.032561562955379486, 0.030445680022239685, 0.02437450923025608, 0.016724154353141785, 0.012353119440376759, 0.010330228134989738, 0.009516746737062931, 0.012906086631119251, 0.011760520748794079, 0.011259631253778934, 0.009135114029049873, 0.009528076276183128, 0.010122746229171753, 0.009603487327694893, 0.009056797251105309, 0.008719970472157001, 0.008556393906474113, 0.008795666508376598, 0.00886488426476717, 0.0085914870724082, 0.008387625217437744, 0.008244745433330536, 0.008393248543143272, 0.008531330153346062, 0.00838297326117754, 0.0081797419115901, 0.008100085891783237, 0.008177314884960651, 0.0082729272544384, 0.008182707242667675, 0.0080157071352005, 0.007953491993248463, 0.008019224740564823, 0.008081886917352676, 0.008006488904356956, 0.00786503218114376, 0.0077867223881185055, 0.007788598537445068, 0.00778712285682559, 0.007712005637586117, 0.007612443994730711, 0.007557718548923731, 0.007542178966104984, 0.007508652284741402, 0.007429803255945444, 0.007344628684222698, 0.007289818488061428, 0.0072540780529379845, 0.007202739827334881, 0.007128561846911907, 0.007056979928165674, 0.007002390455454588, 0.0069508939050138, 0.006884125526994467, 0.0068070231936872005, 0.006736495066434145, 0.006674301810562611, 0.006606851704418659, 0.006527413614094257, 0.006445143837481737, 0.006367497146129608, 0.006288573611527681, 0.006200375966727734, 0.006105977576225996, 0.006011930759996176, 0.005915754474699497, 0.005810689181089401, 0.005697295069694519, 0.005579642951488495, 0.005454569589346647, 0.0053155370987951756, 0.00516248494386673, 0.00499596307054162, 0.004808667115867138, 0.004595261998474598, 0.004355147480964661, 0.004080835729837418, 0.003775152377784252, 0.003446908202022314, 0.003252272494137287, 0.006674658507108688, 0.0027060655411332846, 0.004588007461279631, 0.004074820317327976, 0.008435237221419811, 0.003185221226885915, 0.00414864718914032, 0.00531089399009943, 0.003668040968477726, 0.004209117963910103, 0.003272382542490959, 0.003962546121329069, 0.003522454062476754, 0.003294067457318306, 0.0033031320199370384, 0.0028897111769765615, 0.0033807128202170134, 0.0029192420188337564, 0.002673343289643526, 0.002877000719308853, 0.002513391897082329, 0.0024765117559581995, 0.002555769169703126, 0.0022762164007872343, 0.002389702247455716, 0.0020812717266380787, 0.0021759949158877134, 0.0019993542227894068, 0.0019316489342600107, 0.0018407931784167886, 0.0018175194272771478, 0.001805803389288485, 0.0017357703763991594, 0.0016700045671314, 0.0016567243728786707, 0.001638295827433467, 0.0016333491075783968, 0.0016096405452117324, 0.0015798038803040981, 0.0016236859373748302, 0.0018549661617726088, 0.0026554816868156195, 0.0024371258914470673, 0.0019285730086266994, 0.0023027106653898954, 0.0017356573371216655, 0.0022290446795523167, 0.0030046000611037016, 0.00640636682510376, 0.003208709182217717, 0.0019375639967620373, 0.003500821767374873, 0.0028544669039547443, 0.0020366322714835405, 0.0026298202574253082, 0.0021456240210682154, 0.0024771944154053926, 0.0022546255495399237, 0.0019329267088323832, 0.0022590747103095055, 0.002002641325816512, 0.001936298212967813, 0.002108504995703697]\n"
          ]
        },
        {
          "output_type": "display_data",
          "data": {
            "text/plain": [
              "<Figure size 432x288 with 1 Axes>"
            ],
            "image/png": "[encoded data removed]"
          },
          "metadata": {
            "needs_background": "light"
          }
        }
      ]
    },
    {
      "cell_type": "code",
      "source": [
        "\n",
        "for x_test,y_test in testloader:\n",
        "  lstm_model.eval()\n",
        "  y_test_pred = lstm_model(x_test)\n",
        "\n",
        "print(y_test_pred)\n"
      ],
      "metadata": {
        "colab": {
          "base_uri": "https://localhost:8080/"
        },
        "id": "Pqbn1OjTjtO_",
        "outputId": "ec3bcd8c-f8a3-459e-f6bc-5ebf4f91bd2c"
      },
      "execution_count": null,
      "outputs": [
        {
          "output_type": "stream",
          "name": "stdout",
          "text": [
            "tensor([[0.6006],\n",
            "        [0.6118],\n",
            "        [0.6187],\n",
            "        [0.6021],\n",
            "        [0.6137],\n",
            "        [0.6442],\n",
            "        [0.6619],\n",
            "        [0.7112],\n",
            "        [0.7846],\n",
            "        [0.8009],\n",
            "        [0.7515],\n",
            "        [0.7138]], grad_fn=<AddmmBackward0>)\n"
          ]
        }
      ]
    },
    {
      "cell_type": "code",
      "source": [
        "data_predict = y_test_pred.data.numpy()\n",
        "print(data_predict.shape)\n",
        "\n",
        "\n",
        "predictions_rescaled = scaler.inverse_transform(data_predict)\n",
        "print(predictions_rescaled)\n",
        "\n",
        "df = pd.DataFrame(predictions_rescaled, index=airline_data_df_2.index[132:])\n",
        "\n",
        "fig, ax = plt.subplots()\n",
        "ax.plot(airline_data_df_2)\n",
        "ax.plot(df)\n",
        "plt.title(\"Time Series of Airline Passengers\")\n",
        "plt.xlabel(\"Time\")\n",
        "plt.ylabel(\"Number of Passengers\")\n",
        "plt.show()\n",
        "\n",
        "fig, ax = plt.subplots()\n",
        "ax.plot(airline_data_df_2.index[132:], airline_data_df_2['#Passengers'][132:])\n",
        "plt.plot(df)\n",
        "plt.show()"
      ],
      "metadata": {
        "colab": {
          "base_uri": "https://localhost:8080/",
          "height": 769
        },
        "id": "tR5eDFdxaFJp",
        "outputId": "efd6f091-5d37-42c7-faf4-4f60c5adcbbd"
      },
      "execution_count": null,
      "outputs": [
        {
          "output_type": "stream",
          "name": "stdout",
          "text": [
            "(12, 1)\n",
            "[[415.08942]\n",
            " [420.9244 ]\n",
            " [424.4743 ]\n",
            " [415.87405]\n",
            " [421.87628]\n",
            " [437.67828]\n",
            " [446.85858]\n",
            " [472.37643]\n",
            " [510.42264]\n",
            " [518.87665]\n",
            " [493.27527]\n",
            " [473.7545 ]]\n"
          ]
        },
        {
          "output_type": "display_data",
          "data": {
            "image/png": "[encoded data removed]",
            "text/plain": [
              "<Figure size 432x288 with 1 Axes>"
            ]
          },
          "metadata": {
            "needs_background": "light"
          }
        },
        {
          "output_type": "display_data",
          "data": {
            "image/png": "[encoded data removed]",
            "text/plain": [
              "<Figure size 432x288 with 1 Axes>"
            ]
          },
          "metadata": {
            "needs_background": "light"
          }
        }
      ]
    },
    {
      "cell_type": "code",
      "source": [
        "test_y_rescaled = scaler.inverse_transform(test_y)\n",
        "\n",
        "rmse = skm.mean_squared_error(test_y_rescaled, data_predict, squared = False)\n",
        "print(\"Mean squared error for 12 forecast steps:\", rmse)\n",
        "mape = skm.mean_absolute_percentage_error(test_y_rescaled, data_predict)\n",
        "print(\"Mean absolute percentage error for 12 forecast steps:\", mape)"
      ],
      "metadata": {
        "id": "nvhBycB8bqH5",
        "colab": {
          "base_uri": "https://localhost:8080/"
        },
        "outputId": "6eb28e76-9410-4112-9bc5-689c73b67807"
      },
      "execution_count": null,
      "outputs": [
        {
          "output_type": "stream",
          "name": "stdout",
          "text": [
            "Mean squared error for 12 forecast steps: 479.31638922049785\n",
            "Mean absolute percentage error for 12 forecast steps: 0.9985518778532595\n"
          ]
        }
      ]
    },
    {
      "cell_type": "code",
      "source": [
        "\n"
      ],
      "metadata": {
        "id": "us2U0BCw8c09"
      },
      "execution_count": null,
      "outputs": []
    }
  ]
}